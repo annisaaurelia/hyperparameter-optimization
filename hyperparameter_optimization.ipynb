{
  "nbformat": 4,
  "nbformat_minor": 0,
  "metadata": {
    "colab": {
      "name": "hyperparameter_optimization.ipynb",
      "provenance": [],
      "collapsed_sections": [],
      "toc_visible": true
    },
    "kernelspec": {
      "name": "python3",
      "display_name": "Python 3"
    },
    "language_info": {
      "name": "python"
    }
  },
  "cells": [
    {
      "cell_type": "markdown",
      "metadata": {
        "id": "QNfQr-_ZjmwN"
      },
      "source": [
        "# Load Library"
      ]
    },
    {
      "cell_type": "code",
      "metadata": {
        "colab": {
          "base_uri": "https://localhost:8080/"
        },
        "id": "m5ADX76DYakQ",
        "outputId": "e6a9345a-6f46-4986-a317-e4bc7da753eb"
      },
      "source": [
        "import pandas as pd\n",
        "import numpy as np\n",
        "import matplotlib.pyplot as plt\n",
        "import scipy.stats as stats\n",
        "\n",
        "# to split the datasets\n",
        "from sklearn.model_selection import train_test_split, cross_validate\n",
        "from sklearn.pipeline import Pipeline\n",
        "\n",
        "from sklearn.ensemble import RandomForestClassifier\n",
        "\n",
        "!pip install feature_engine\n",
        "!pip install category_encoders\n",
        "!pip install scikit-optimize\n",
        "!pip install optuna"
      ],
      "execution_count": null,
      "outputs": [
        {
          "output_type": "stream",
          "text": [
            "Collecting optuna\n",
            "\u001b[?25l  Downloading https://files.pythonhosted.org/packages/1a/18/b49ca91cf592747e19f2d333c2a86cd7c81895b922a5a09adf6335471576/optuna-2.8.0-py3-none-any.whl (301kB)\n",
            "\r\u001b[K     |█                               | 10kB 16.7MB/s eta 0:00:01\r\u001b[K     |██▏                             | 20kB 20.3MB/s eta 0:00:01\r\u001b[K     |███▎                            | 30kB 10.6MB/s eta 0:00:01\r\u001b[K     |████▍                           | 40kB 8.4MB/s eta 0:00:01\r\u001b[K     |█████▍                          | 51kB 5.4MB/s eta 0:00:01\r\u001b[K     |██████▌                         | 61kB 6.3MB/s eta 0:00:01\r\u001b[K     |███████▋                        | 71kB 6.3MB/s eta 0:00:01\r\u001b[K     |████████▊                       | 81kB 6.2MB/s eta 0:00:01\r\u001b[K     |█████████▊                      | 92kB 6.0MB/s eta 0:00:01\r\u001b[K     |██████████▉                     | 102kB 6.6MB/s eta 0:00:01\r\u001b[K     |████████████                    | 112kB 6.6MB/s eta 0:00:01\r\u001b[K     |█████████████                   | 122kB 6.6MB/s eta 0:00:01\r\u001b[K     |██████████████                  | 133kB 6.6MB/s eta 0:00:01\r\u001b[K     |███████████████▏                | 143kB 6.6MB/s eta 0:00:01\r\u001b[K     |████████████████▎               | 153kB 6.6MB/s eta 0:00:01\r\u001b[K     |█████████████████▍              | 163kB 6.6MB/s eta 0:00:01\r\u001b[K     |██████████████████▌             | 174kB 6.6MB/s eta 0:00:01\r\u001b[K     |███████████████████▌            | 184kB 6.6MB/s eta 0:00:01\r\u001b[K     |████████████████████▋           | 194kB 6.6MB/s eta 0:00:01\r\u001b[K     |█████████████████████▊          | 204kB 6.6MB/s eta 0:00:01\r\u001b[K     |██████████████████████▉         | 215kB 6.6MB/s eta 0:00:01\r\u001b[K     |███████████████████████▉        | 225kB 6.6MB/s eta 0:00:01\r\u001b[K     |█████████████████████████       | 235kB 6.6MB/s eta 0:00:01\r\u001b[K     |██████████████████████████      | 245kB 6.6MB/s eta 0:00:01\r\u001b[K     |███████████████████████████▏    | 256kB 6.6MB/s eta 0:00:01\r\u001b[K     |████████████████████████████▏   | 266kB 6.6MB/s eta 0:00:01\r\u001b[K     |█████████████████████████████▎  | 276kB 6.6MB/s eta 0:00:01\r\u001b[K     |██████████████████████████████▍ | 286kB 6.6MB/s eta 0:00:01\r\u001b[K     |███████████████████████████████▌| 296kB 6.6MB/s eta 0:00:01\r\u001b[K     |████████████████████████████████| 307kB 6.6MB/s \n",
            "\u001b[?25hRequirement already satisfied: scipy!=1.4.0 in /usr/local/lib/python3.7/dist-packages (from optuna) (1.4.1)\n",
            "Collecting cmaes>=0.8.2\n",
            "  Downloading https://files.pythonhosted.org/packages/01/1f/43b01223a0366171f474320c6e966c39a11587287f098a5f09809b45e05f/cmaes-0.8.2-py3-none-any.whl\n",
            "Requirement already satisfied: packaging>=20.0 in /usr/local/lib/python3.7/dist-packages (from optuna) (20.9)\n",
            "Requirement already satisfied: tqdm in /usr/local/lib/python3.7/dist-packages (from optuna) (4.41.1)\n",
            "Requirement already satisfied: numpy in /usr/local/lib/python3.7/dist-packages (from optuna) (1.19.5)\n",
            "Requirement already satisfied: sqlalchemy>=1.1.0 in /usr/local/lib/python3.7/dist-packages (from optuna) (1.4.18)\n",
            "Collecting alembic\n",
            "\u001b[?25l  Downloading https://files.pythonhosted.org/packages/d5/80/ef186e599a57d0e4cb78fc76e0bfc2e6953fa9716b2a5cf2de0117ed8eb5/alembic-1.6.5-py2.py3-none-any.whl (164kB)\n",
            "\u001b[K     |████████████████████████████████| 174kB 9.5MB/s \n",
            "\u001b[?25hCollecting cliff\n",
            "\u001b[?25l  Downloading https://files.pythonhosted.org/packages/87/11/aea1cacbd4cf8262809c4d6f95dcb3f2802594de1f51c5bd454d69bf15c5/cliff-3.8.0-py3-none-any.whl (80kB)\n",
            "\u001b[K     |████████████████████████████████| 81kB 5.5MB/s \n",
            "\u001b[?25hCollecting colorlog\n",
            "  Downloading https://files.pythonhosted.org/packages/32/e6/e9ddc6fa1104fda718338b341e4b3dc31cd8039ab29e52fc73b508515361/colorlog-5.0.1-py2.py3-none-any.whl\n",
            "Requirement already satisfied: pyparsing>=2.0.2 in /usr/local/lib/python3.7/dist-packages (from packaging>=20.0->optuna) (2.4.7)\n",
            "Requirement already satisfied: greenlet!=0.4.17; python_version >= \"3\" in /usr/local/lib/python3.7/dist-packages (from sqlalchemy>=1.1.0->optuna) (1.1.0)\n",
            "Requirement already satisfied: importlib-metadata; python_version < \"3.8\" in /usr/local/lib/python3.7/dist-packages (from sqlalchemy>=1.1.0->optuna) (4.5.0)\n",
            "Collecting python-editor>=0.3\n",
            "  Downloading https://files.pythonhosted.org/packages/c6/d3/201fc3abe391bbae6606e6f1d598c15d367033332bd54352b12f35513717/python_editor-1.0.4-py3-none-any.whl\n",
            "Collecting Mako\n",
            "\u001b[?25l  Downloading https://files.pythonhosted.org/packages/f3/54/dbc07fbb20865d3b78fdb7cf7fa713e2cba4f87f71100074ef2dc9f9d1f7/Mako-1.1.4-py2.py3-none-any.whl (75kB)\n",
            "\u001b[K     |████████████████████████████████| 81kB 5.6MB/s \n",
            "\u001b[?25hRequirement already satisfied: python-dateutil in /usr/local/lib/python3.7/dist-packages (from alembic->optuna) (2.8.1)\n",
            "Collecting stevedore>=2.0.1\n",
            "\u001b[?25l  Downloading https://files.pythonhosted.org/packages/d4/49/b602307aeac3df3384ff1fcd05da9c0376c622a6c48bb5325f28ab165b57/stevedore-3.3.0-py3-none-any.whl (49kB)\n",
            "\u001b[K     |████████████████████████████████| 51kB 4.8MB/s \n",
            "\u001b[?25hRequirement already satisfied: PyYAML>=3.12 in /usr/local/lib/python3.7/dist-packages (from cliff->optuna) (3.13)\n",
            "Collecting cmd2>=1.0.0\n",
            "\u001b[?25l  Downloading https://files.pythonhosted.org/packages/e3/6a/e929ec70ca05c5962f6541ef29fb9c207dd41f0f2333680fa39f44fa4357/cmd2-2.1.1-py3-none-any.whl (140kB)\n",
            "\u001b[K     |████████████████████████████████| 143kB 9.5MB/s \n",
            "\u001b[?25hRequirement already satisfied: PrettyTable>=0.7.2 in /usr/local/lib/python3.7/dist-packages (from cliff->optuna) (2.1.0)\n",
            "Collecting pbr!=2.1.0,>=2.0.0\n",
            "\u001b[?25l  Downloading https://files.pythonhosted.org/packages/18/e0/1d4702dd81121d04a477c272d47ee5b6bc970d1a0990b11befa275c55cf2/pbr-5.6.0-py2.py3-none-any.whl (111kB)\n",
            "\u001b[K     |████████████████████████████████| 112kB 10.6MB/s \n",
            "\u001b[?25hRequirement already satisfied: typing-extensions>=3.6.4; python_version < \"3.8\" in /usr/local/lib/python3.7/dist-packages (from importlib-metadata; python_version < \"3.8\"->sqlalchemy>=1.1.0->optuna) (3.7.4.3)\n",
            "Requirement already satisfied: zipp>=0.5 in /usr/local/lib/python3.7/dist-packages (from importlib-metadata; python_version < \"3.8\"->sqlalchemy>=1.1.0->optuna) (3.4.1)\n",
            "Requirement already satisfied: MarkupSafe>=0.9.2 in /usr/local/lib/python3.7/dist-packages (from Mako->alembic->optuna) (2.0.1)\n",
            "Requirement already satisfied: six>=1.5 in /usr/local/lib/python3.7/dist-packages (from python-dateutil->alembic->optuna) (1.15.0)\n",
            "Collecting pyperclip>=1.6\n",
            "  Downloading https://files.pythonhosted.org/packages/a7/2c/4c64579f847bd5d539803c8b909e54ba087a79d01bb3aba433a95879a6c5/pyperclip-1.8.2.tar.gz\n",
            "Requirement already satisfied: wcwidth>=0.1.7 in /usr/local/lib/python3.7/dist-packages (from cmd2>=1.0.0->cliff->optuna) (0.2.5)\n",
            "Requirement already satisfied: attrs>=16.3.0 in /usr/local/lib/python3.7/dist-packages (from cmd2>=1.0.0->cliff->optuna) (21.2.0)\n",
            "Collecting colorama>=0.3.7\n",
            "  Downloading https://files.pythonhosted.org/packages/44/98/5b86278fbbf250d239ae0ecb724f8572af1c91f4a11edf4d36a206189440/colorama-0.4.4-py2.py3-none-any.whl\n",
            "Building wheels for collected packages: pyperclip\n",
            "  Building wheel for pyperclip (setup.py) ... \u001b[?25l\u001b[?25hdone\n",
            "  Created wheel for pyperclip: filename=pyperclip-1.8.2-cp37-none-any.whl size=11136 sha256=6196bf7c971cf15e6ea898b881278b51fb517b40d68f4dcfed3f5d4b36759191\n",
            "  Stored in directory: /root/.cache/pip/wheels/25/af/b8/3407109267803f4015e1ee2ff23be0c8c19ce4008665931ee1\n",
            "Successfully built pyperclip\n",
            "Installing collected packages: cmaes, python-editor, Mako, alembic, pbr, stevedore, pyperclip, colorama, cmd2, cliff, colorlog, optuna\n",
            "Successfully installed Mako-1.1.4 alembic-1.6.5 cliff-3.8.0 cmaes-0.8.2 cmd2-2.1.1 colorama-0.4.4 colorlog-5.0.1 optuna-2.8.0 pbr-5.6.0 pyperclip-1.8.2 python-editor-1.0.4 stevedore-3.3.0\n"
          ],
          "name": "stdout"
        }
      ]
    },
    {
      "cell_type": "code",
      "metadata": {
        "colab": {
          "base_uri": "https://localhost:8080/"
        },
        "id": "ljtZckCTjss0",
        "outputId": "420f44b3-fd1a-42c6-bad8-b50340fc2391"
      },
      "source": [
        "from google.colab import drive\n",
        "drive.mount('/content/drive')"
      ],
      "execution_count": null,
      "outputs": [
        {
          "output_type": "stream",
          "text": [
            "Mounted at /content/drive\n"
          ],
          "name": "stdout"
        }
      ]
    },
    {
      "cell_type": "code",
      "metadata": {
        "colab": {
          "base_uri": "https://localhost:8080/"
        },
        "id": "2eoUWprijt36",
        "outputId": "237ee2f4-902a-414d-bff6-bd1b6807fa92"
      },
      "source": [
        "import os\n",
        "os.chdir('/content/drive/My Drive/Online Course/Hyperparameter Optimization')\n",
        "!pwd"
      ],
      "execution_count": null,
      "outputs": [
        {
          "output_type": "stream",
          "text": [
            "/content/drive/My Drive/Online Course/Hyperparameter Optimization\n"
          ],
          "name": "stdout"
        }
      ]
    },
    {
      "cell_type": "markdown",
      "metadata": {
        "id": "FUTG4qSMirTU"
      },
      "source": [
        "# Cross Validation"
      ]
    },
    {
      "cell_type": "code",
      "metadata": {
        "colab": {
          "base_uri": "https://localhost:8080/"
        },
        "id": "iAVrpfJ7j-3V",
        "outputId": "b22b20df-3150-4701-b3cb-5ee614e22d20"
      },
      "source": [
        "from scipy.special import comb\n",
        "\n",
        "from sklearn.datasets import load_breast_cancer\n",
        "from sklearn.linear_model import LogisticRegression\n",
        "from sklearn.metrics import accuracy_score\n",
        "\n",
        "from sklearn.model_selection import (\n",
        "    KFold,\n",
        "    RepeatedKFold,\n",
        "    LeaveOneOut,\n",
        "    LeavePOut,\n",
        "    StratifiedKFold,\n",
        "    cross_validate,\n",
        "    train_test_split,\n",
        ")\n",
        "\n",
        "# if you want more information about the dataset for this demo:\n",
        "\n",
        "# scikit-learn dataset\n",
        "# https://scikit-learn.org/stable/datasets/toy_dataset.html#breast-cancer-dataset\n",
        "\n",
        "# dataset information: UCI Machine Learning Repository\n",
        "# https://archive.ics.uci.edu/ml/datasets/Breast+Cancer+Wisconsin+(Diagnostic)\n",
        "    \n",
        "# in short, classification problem, trying to predict whether the tumor\n",
        "# is malignant or benign\n",
        "\n",
        "# load dataset\n",
        "breast_cancer_X, breast_cancer_y = load_breast_cancer(return_X_y=True)\n",
        "X = pd.DataFrame(breast_cancer_X)\n",
        "y = pd.Series(breast_cancer_y).map({0:1, 1:0})\n",
        "\n",
        "X.head()\n",
        "\n",
        "# split dataset into a train and test set\n",
        "\n",
        "X_train, X_test, y_train, y_test = train_test_split(\n",
        "    X, y, test_size=0.3, random_state=0)\n",
        "\n",
        "X_train.shape, X_test.shape"
      ],
      "execution_count": null,
      "outputs": [
        {
          "output_type": "execute_result",
          "data": {
            "text/plain": [
              "((398, 30), (171, 30))"
            ]
          },
          "metadata": {
            "tags": []
          },
          "execution_count": 3
        }
      ]
    },
    {
      "cell_type": "markdown",
      "metadata": {
        "id": "1Z_WYKdCkThy"
      },
      "source": [
        "## K-Fold"
      ]
    },
    {
      "cell_type": "code",
      "metadata": {
        "colab": {
          "base_uri": "https://localhost:8080/"
        },
        "id": "jKd4mitWkKIa",
        "outputId": "aed69d9f-2250-4793-af4e-21e0801cd814"
      },
      "source": [
        "# Logistic Regression\n",
        "logit = LogisticRegression(\n",
        "    penalty ='l2', C=10, solver='liblinear', random_state=4, max_iter=10000)\n",
        "\n",
        "# K-Fold Cross-Validation\n",
        "kf = KFold(n_splits=5, shuffle=True, random_state=4)\n",
        "\n",
        "# estimate generalization error\n",
        "clf =  cross_validate(\n",
        "    logit,\n",
        "    X_train, \n",
        "    y_train,\n",
        "    scoring='accuracy',\n",
        "    return_train_score=True,\n",
        "    cv=kf, # k-fold\n",
        ")\n",
        "\n",
        "print('mean train set accuracy: ', np.mean(clf['train_score']), ' +- ', np.std(clf['train_score']))\n",
        "print('mean test set accuracy: ', np.mean(clf['test_score']), ' +- ', np.std(clf['test_score']))"
      ],
      "execution_count": null,
      "outputs": [
        {
          "output_type": "stream",
          "text": [
            "mean train set accuracy:  0.9685948620886812  +-  0.004426551735731128\n",
            "mean test set accuracy:  0.9497784810126582  +-  0.013608919570498668\n"
          ],
          "name": "stdout"
        }
      ]
    },
    {
      "cell_type": "markdown",
      "metadata": {
        "id": "aiYvWpVnkVv8"
      },
      "source": [
        "## Repeated K-Fold"
      ]
    },
    {
      "cell_type": "code",
      "metadata": {
        "colab": {
          "base_uri": "https://localhost:8080/"
        },
        "id": "NUjIS3tGkrdf",
        "outputId": "0f62046e-dde1-41a2-c77e-4b2c1bca6594"
      },
      "source": [
        "# Logistic Regression\n",
        "logit = LogisticRegression(\n",
        "    penalty ='l2', C=1, solver='liblinear', random_state=4, max_iter=10000)\n",
        "\n",
        "# Repeated K-Fold Cross-Validation\n",
        "rkf = RepeatedKFold(\n",
        "    n_splits=5,\n",
        "    n_repeats=10,\n",
        "    random_state=4,\n",
        ")\n",
        "\n",
        "print('We expect K * n performance metrics: ', 5*10)\n",
        "\n",
        "# estimate generalization error\n",
        "clf =  cross_validate(\n",
        "    logit,\n",
        "    X_train, \n",
        "    y_train,\n",
        "    scoring='accuracy',\n",
        "    return_train_score=True,\n",
        "    cv=rkf, # k-fold\n",
        ")\n",
        "\n",
        "print('Number of metrics obtained: ', len(clf['test_score']))\n",
        "\n",
        "clf['test_score']\n",
        "\n",
        "print('mean train set accuracy: ', np.mean(clf['train_score']), ' +- ', np.std(clf['train_score']))\n",
        "print('mean test set accuracy: ', np.mean(clf['test_score']), ' +- ', np.std(clf['test_score']))"
      ],
      "execution_count": null,
      "outputs": [
        {
          "output_type": "stream",
          "text": [
            "We expect K * n performance metrics:  50\n",
            "Number of metrics obtained:  50\n",
            "mean train set accuracy:  0.9602369827093316  +-  0.0067636481964756115\n",
            "mean test set accuracy:  0.9459683544303796  +-  0.02296291674821915\n"
          ],
          "name": "stdout"
        }
      ]
    },
    {
      "cell_type": "markdown",
      "metadata": {
        "id": "U4HVDcgykX2E"
      },
      "source": [
        "## Leave One Out"
      ]
    },
    {
      "cell_type": "code",
      "metadata": {
        "colab": {
          "base_uri": "https://localhost:8080/"
        },
        "id": "w9p2DHC9k8Hq",
        "outputId": "6f05cbc0-f40f-427d-f4b5-70734230deae"
      },
      "source": [
        "# Logistic Regression\n",
        "logit = LogisticRegression(\n",
        "    penalty ='l2', C=1, solver='liblinear', random_state=4, max_iter=10000)\n",
        "\n",
        "# Leave One Out Cross-Validation\n",
        "loo = LeaveOneOut()\n",
        "\n",
        "print('We expect as many metrics as data in the train set: ', len(X_train))\n",
        "\n",
        "# estimate generalization error\n",
        "clf =  cross_validate(\n",
        "    logit,\n",
        "    X_train, \n",
        "    y_train,\n",
        "    scoring='accuracy',\n",
        "    return_train_score=True,\n",
        "    cv=loo, # k-fold\n",
        ")\n",
        "\n",
        "print('Number of metrics obtained: ', len(clf['test_score']))\n",
        "\n",
        "len(clf['test_score'])\n",
        "\n",
        "print('mean train set accuracy: ', np.mean(clf['train_score']), ' +- ', np.std(clf['train_score']))\n",
        "print('mean test set accuracy: ', np.mean(clf['test_score']), ' +- ', np.std(clf['test_score']))"
      ],
      "execution_count": null,
      "outputs": [
        {
          "output_type": "stream",
          "text": [
            "We expect as many metrics as data in the train set:  398\n",
            "Number of metrics obtained:  398\n",
            "mean train set accuracy:  0.9575269293571131  +-  0.0012588096154312522\n",
            "mean test set accuracy:  0.9447236180904522  +-  0.22851893469149895\n"
          ],
          "name": "stdout"
        }
      ]
    },
    {
      "cell_type": "markdown",
      "metadata": {
        "id": "w29or60pkb8W"
      },
      "source": [
        "## Leave P Out"
      ]
    },
    {
      "cell_type": "code",
      "metadata": {
        "colab": {
          "base_uri": "https://localhost:8080/"
        },
        "id": "hTuZkMXdlIaA",
        "outputId": "8fed53f6-9994-4521-f6f3-6001fa47ce08"
      },
      "source": [
        "# Logistic Regression\n",
        "logit = LogisticRegression(\n",
        "    penalty ='l2', C=1, solver='liblinear', random_state=4, max_iter=10000)\n",
        "\n",
        "# Leave P Out Cross-Validation\n",
        "lpo = LeavePOut(p=2)\n",
        "\n",
        "# I take a smaller sample of the data, otherwise\n",
        "# my computer runs out of memory\n",
        "X_train_small = X_train.head(100)\n",
        "y_train_small = y_train.head(100)\n",
        "\n",
        "# The number of combinations of N things taken k at a time.\n",
        "print('We expect : ', comb(100,2), ' metrics')\n",
        "\n",
        "\n",
        "# estimate generalization error\n",
        "clf =  cross_validate(\n",
        "    logit,\n",
        "    X_train_small, \n",
        "    y_train_small,\n",
        "    scoring='accuracy',\n",
        "    return_train_score=True,\n",
        "    cv=lpo, # k-fold\n",
        ")\n",
        "\n",
        "print('Number of metrics obtained: ', len(clf['test_score']))\n",
        "\n",
        "print('mean train set accuracy: ', np.mean(clf['train_score']), ' +- ', np.std(clf['train_score']))\n",
        "print('mean test set accuracy: ', np.mean(clf['test_score']), ' +- ', np.std(clf['test_score']))"
      ],
      "execution_count": null,
      "outputs": [
        {
          "output_type": "stream",
          "text": [
            "We expect :  4950.0  metrics\n",
            "Number of metrics obtained:  4950\n",
            "mean train set accuracy:  0.9700041228612658  +-  0.0032331283783864494\n",
            "mean test set accuracy:  0.918989898989899  +-  0.19306928127674033\n"
          ],
          "name": "stdout"
        }
      ]
    },
    {
      "cell_type": "markdown",
      "metadata": {
        "id": "8JuEdqBJkeLp"
      },
      "source": [
        "## Stratified K-Fold"
      ]
    },
    {
      "cell_type": "code",
      "metadata": {
        "colab": {
          "base_uri": "https://localhost:8080/"
        },
        "id": "_oRQJsXdlNYk",
        "outputId": "19ac4156-e0ba-4d8f-e100-872e2e48f3f8"
      },
      "source": [
        "# Logistic Regression\n",
        "logit = LogisticRegression(\n",
        "    penalty ='l2', C=1, solver='liblinear', random_state=4, max_iter=10000)\n",
        "\n",
        "# Leave P Out Cross-Validation\n",
        "skf = StratifiedKFold(n_splits=5, shuffle=True, random_state=4)\n",
        "\n",
        "# estimate generalization error\n",
        "clf =  cross_validate(\n",
        "    logit,\n",
        "    X_train, \n",
        "    y_train,\n",
        "    scoring='accuracy',\n",
        "    return_train_score=True,\n",
        "    cv=skf, # k-fold\n",
        ")\n",
        "\n",
        "len(clf['test_score'])\n",
        "\n",
        "print('mean train set accuracy: ', np.mean(clf['train_score']), ' +- ', np.std(clf['train_score']))\n",
        "print('mean test set accuracy: ', np.mean(clf['test_score']), ' +- ', np.std(clf['test_score']))"
      ],
      "execution_count": null,
      "outputs": [
        {
          "output_type": "stream",
          "text": [
            "mean train set accuracy:  0.9610536069872438  +-  0.004708967629151459\n",
            "mean test set accuracy:  0.944620253164557  +-  0.02364900328794808\n"
          ],
          "name": "stdout"
        }
      ]
    },
    {
      "cell_type": "markdown",
      "metadata": {
        "id": "cNNAXE6RlcVx"
      },
      "source": [
        "# Group Cross Validation"
      ]
    },
    {
      "cell_type": "code",
      "metadata": {
        "id": "gYWHjtaEl-Y6"
      },
      "source": [
        "from sklearn.datasets import load_breast_cancer\n",
        "from sklearn.linear_model import LogisticRegression\n",
        "from sklearn.metrics import accuracy_score\n",
        "\n",
        "from sklearn.model_selection import (\n",
        "    GroupKFold,\n",
        "    LeaveOneGroupOut,\n",
        "    cross_validate,\n",
        "    GridSearchCV,\n",
        ")\n",
        "\n",
        "# load dataset\n",
        "breast_cancer_X, breast_cancer_y = load_breast_cancer(return_X_y=True)\n",
        "X = pd.DataFrame(breast_cancer_X)\n",
        "y = pd.Series(breast_cancer_y).map({0:1, 1:0})\n",
        "\n",
        "# add patients arbitrarily for the demo\n",
        "patient_list = [p for p in range(10)]\n",
        "\n",
        "np.random.seed(1)\n",
        "X[\"patient\"] = np.random.choice(patient_list, size=len(X))\n",
        "\n",
        "X.head()\n",
        "\n",
        "# split dataset into a train and test set\n",
        "# this time, we leave data from 1 patient out\n",
        "\n",
        "# all patients except 7\n",
        "X_train = X[X['patient']!=7]\n",
        "y_train = y.iloc[X_train.index]\n",
        "\n",
        "# patient 7\n",
        "X_test = X[X['patient']==7]\n",
        "y_test = y.iloc[X_test.index]\n",
        "\n",
        "# the test set will not be used in the cross-validation!"
      ],
      "execution_count": null,
      "outputs": []
    },
    {
      "cell_type": "code",
      "metadata": {
        "colab": {
          "base_uri": "https://localhost:8080/"
        },
        "id": "aTnneiAtmNZ8",
        "outputId": "9ac86bea-7df0-434e-f16a-603a29a8dfac"
      },
      "source": [
        "# Logistic Regression\n",
        "logit = LogisticRegression(\n",
        "    penalty ='l2', C=10, solver='liblinear', random_state=4, max_iter=10000)\n",
        "\n",
        "# Group K-Fold Cross-Validation\n",
        "gkf = GroupKFold(n_splits=5)\n",
        "\n",
        "# estimate generalization error\n",
        "clf =  cross_validate(\n",
        "    logit,\n",
        "    X_train.drop('patient', axis=1), # drop the patient column, this is not a predictor\n",
        "    y_train,\n",
        "    scoring='accuracy',\n",
        "    return_train_score=True,\n",
        "    cv=gkf.split(X_train.drop('patient', axis=1), y_train, groups=X_train['patient']),\n",
        ")\n",
        "\n",
        "clf['test_score']\n",
        "\n",
        "print('mean train set accuracy: ', np.mean(clf['train_score']), ' +- ', np.std(clf['train_score']))\n",
        "print('mean test set accuracy: ', np.mean(clf['test_score']), ' +- ', np.std(clf['test_score']))\n",
        "\n",
        "# # fit the model to entire train set\n",
        "logit.fit(\n",
        "    X_train.drop('patient', axis=1), # drop the patient column, this is not a predictor\n",
        "    y_train)\n",
        "\n",
        "# let's get the predictions\n",
        "train_preds = logit.predict(X_train.drop('patient', axis=1))\n",
        "test_preds = logit.predict(X_test.drop('patient', axis=1))\n",
        "\n",
        "print('Train Accuracy: ', accuracy_score(y_train, train_preds))\n",
        "print('Test Accuracy: ', accuracy_score(y_test, test_preds))"
      ],
      "execution_count": null,
      "outputs": [
        {
          "output_type": "stream",
          "text": [
            "mean train set accuracy:  0.9716834972481945  +-  0.004992863539378984\n",
            "mean test set accuracy:  0.954930393756672  +-  0.01565426086525203\n",
            "Train Accuracy:  0.9721669980119284\n",
            "Test Accuracy:  0.9545454545454546\n"
          ],
          "name": "stdout"
        }
      ]
    },
    {
      "cell_type": "markdown",
      "metadata": {
        "id": "qCFTjv5ol4Cs"
      },
      "source": [
        "# Nested Cross Validation"
      ]
    },
    {
      "cell_type": "code",
      "metadata": {
        "id": "TeWMAaCxma85"
      },
      "source": [
        "from sklearn.datasets import load_breast_cancer\n",
        "from sklearn.ensemble import RandomForestClassifier\n",
        "from sklearn.linear_model import LogisticRegression\n",
        "from sklearn.metrics import accuracy_score\n",
        "\n",
        "from sklearn.model_selection import (\n",
        "    KFold,\n",
        "    GridSearchCV,\n",
        "    train_test_split,\n",
        ")\n",
        "\n",
        "# if you want more information about the dataset for this demo:\n",
        "\n",
        "# scikit-learn dataset\n",
        "# https://scikit-learn.org/stable/datasets/toy_dataset.html#breast-cancer-dataset\n",
        "\n",
        "# dataset information: UCI Machine Learning Repository\n",
        "# https://archive.ics.uci.edu/ml/datasets/Breast+Cancer+Wisconsin+(Diagnostic)\n",
        "    \n",
        "# in short, classification problem, trying to predict whether the tumor\n",
        "# is malignant or benign\n",
        "\n",
        "# load dataset\n",
        "breast_cancer_X, breast_cancer_y = load_breast_cancer(return_X_y=True)\n",
        "X = pd.DataFrame(breast_cancer_X)\n",
        "y = pd.Series(breast_cancer_y).map({0:1, 1:0})\n",
        "\n",
        "X.head()\n",
        "\n",
        "X_train.reset_index(drop=True, inplace=True)\n",
        "y_train.reset_index(drop=True, inplace=True)\n",
        "\n",
        "X_train = X_train.dropna()\n",
        "y_train = y_train.dropna()"
      ],
      "execution_count": null,
      "outputs": []
    },
    {
      "cell_type": "code",
      "metadata": {
        "id": "rRdhD8demgnk"
      },
      "source": [
        "def nested_cross_val(model, grid):\n",
        "\n",
        "    # configure the outer loop cross-validation procedure\n",
        "    cv_outer = KFold(n_splits=5, shuffle=True, random_state=1)\n",
        "\n",
        "    # configure the inner loop cross-validation procedure\n",
        "    cv_inner = KFold(n_splits=5, shuffle=True, random_state=1)\n",
        "\n",
        "    # enumerate splits\n",
        "    outer_results = list()\n",
        "    inner_results = list()\n",
        "\n",
        "    for train_ix, test_ix in cv_outer.split(X_train):\n",
        "\n",
        "        # split data\n",
        "        xtrain, xtest = X_train.reindex(index = train_ix), X_train.reindex(index = test_ix)\n",
        "        ytrain, ytest = y_train.reindex(index=train_ix), y_train.reindex(index=test_ix)\n",
        "\n",
        "        # define search\n",
        "        search = GridSearchCV(\n",
        "            model, grid, scoring='accuracy', cv=cv_inner, refit=True)\n",
        "\n",
        "        # execute search\n",
        "        search.fit(xtrain, ytrain)\n",
        "\n",
        "        # evaluate model on the hold out dataset\n",
        "        yhat = search.predict(xtest)\n",
        "\n",
        "        # evaluate the model\n",
        "        accuracy = accuracy_score(ytest, yhat)\n",
        "\n",
        "        # store the result\n",
        "        outer_results.append(accuracy)\n",
        "        \n",
        "        inner_results.append(search.best_score_)\n",
        "\n",
        "        # report progress\n",
        "        print(' >> accuracy_outer=%.3f, accuracy_inner=%.3f, cfg=%s' %\n",
        "              (accuracy, search.best_score_, search.best_params_))\n",
        "\n",
        "    # summarize the estimated performance of the model\n",
        "    print()\n",
        "    print('accuracy_outer: %.3f +- %.3f' %\n",
        "          (np.mean(outer_results), np.std(outer_results)))\n",
        "    print('accuracy_inner: %.3f +- %.3f' %\n",
        "          (np.mean(inner_results), np.std(inner_results)))\n",
        "\n",
        "    return search.fit(X_train, y_train)"
      ],
      "execution_count": null,
      "outputs": []
    },
    {
      "cell_type": "code",
      "metadata": {
        "colab": {
          "base_uri": "https://localhost:8080/"
        },
        "id": "ocai13WnmjG8",
        "outputId": "cb549cf2-9729-43a0-e58c-8ee8cfd47e56"
      },
      "source": [
        "# Logistic Regression\n",
        "logit = LogisticRegression(\n",
        "    penalty ='l2', C=1, solver='liblinear', random_state=4, max_iter=10000)\n",
        "\n",
        "# hyperparameter space\n",
        "logit_param = dict(\n",
        "    penalty=['l1', 'l2'],\n",
        "    C=[0.1, 1, 10],\n",
        ")\n",
        "\n",
        "logit_search = nested_cross_val(logit, logit_param)\n",
        "\n",
        "# let's get the predictions\n",
        "\n",
        "X_train_preds = logit_search.predict(X_train)\n",
        "X_test_preds = logit_search.predict(X_test)\n",
        "\n",
        "# let's examine the accuracy\n",
        "print('Train accuracy: ', accuracy_score(y_train, X_train_preds))\n",
        "print('Test accuracy: ', accuracy_score(y_test, X_test_preds))"
      ],
      "execution_count": null,
      "outputs": [
        {
          "output_type": "stream",
          "text": [
            " >> accuracy_outer=0.980, accuracy_inner=0.945, cfg={'C': 1, 'penalty': 'l1'}\n",
            " >> accuracy_outer=0.941, accuracy_inner=0.955, cfg={'C': 10, 'penalty': 'l2'}\n",
            " >> accuracy_outer=0.921, accuracy_inner=0.958, cfg={'C': 10, 'penalty': 'l2'}\n",
            " >> accuracy_outer=0.980, accuracy_inner=0.960, cfg={'C': 10, 'penalty': 'l1'}\n",
            " >> accuracy_outer=0.960, accuracy_inner=0.950, cfg={'C': 10, 'penalty': 'l2'}\n",
            "\n",
            "accuracy_outer: 0.956 +- 0.023\n",
            "accuracy_inner: 0.954 +- 0.005\n",
            "Train accuracy:  0.9840954274353877\n",
            "Test accuracy:  0.9545454545454546\n"
          ],
          "name": "stdout"
        }
      ]
    },
    {
      "cell_type": "code",
      "metadata": {
        "colab": {
          "base_uri": "https://localhost:8080/"
        },
        "id": "36SSzAAymqK2",
        "outputId": "fbf423da-04a6-4b60-e9b9-007246d19422"
      },
      "source": [
        "# Random Forest\n",
        "rf_param = dict(\n",
        "    n_estimators=[10, 50, 100, 200],\n",
        "    min_samples_split=[0.1, 0.3, 0.5, 1.0],\n",
        "    max_depth=[1,2,3,None],\n",
        "    )\n",
        "\n",
        "rf = RandomForestClassifier(\n",
        "    n_estimators=100,\n",
        "    min_samples_split=2,\n",
        "    max_depth=3,\n",
        "    random_state=0,\n",
        "    n_jobs=-1,\n",
        "    )\n",
        "rf_search = nested_cross_val(rf, rf_param)\n",
        "\n",
        "# let's get the predictions\n",
        "\n",
        "X_train_preds = rf_search.predict(X_train)\n",
        "X_test_preds = rf_search.predict(X_test)\n",
        "\n",
        "# let's examine the accuracy\n",
        "print('Train accuracy: ', accuracy_score(y_train, X_train_preds))\n",
        "print('Test accuracy: ', accuracy_score(y_test, X_test_preds))"
      ],
      "execution_count": null,
      "outputs": [
        {
          "output_type": "stream",
          "text": [
            " >> accuracy_outer=0.901, accuracy_inner=0.965, cfg={'max_depth': None, 'min_samples_split': 0.1, 'n_estimators': 200}\n",
            " >> accuracy_outer=0.911, accuracy_inner=0.955, cfg={'max_depth': None, 'min_samples_split': 0.1, 'n_estimators': 10}\n",
            " >> accuracy_outer=0.931, accuracy_inner=0.963, cfg={'max_depth': 3, 'min_samples_split': 0.1, 'n_estimators': 50}\n",
            " >> accuracy_outer=0.990, accuracy_inner=0.948, cfg={'max_depth': None, 'min_samples_split': 0.1, 'n_estimators': 100}\n",
            " >> accuracy_outer=0.980, accuracy_inner=0.950, cfg={'max_depth': 3, 'min_samples_split': 0.1, 'n_estimators': 50}\n",
            "\n",
            "accuracy_outer: 0.943 +- 0.036\n",
            "accuracy_inner: 0.956 +- 0.007\n",
            "Train accuracy:  0.9681908548707754\n",
            "Test accuracy:  0.9090909090909091\n"
          ],
          "name": "stdout"
        }
      ]
    },
    {
      "cell_type": "markdown",
      "metadata": {
        "id": "2PydDH36rREa"
      },
      "source": [
        "# Basic Search Algorithm"
      ]
    },
    {
      "cell_type": "markdown",
      "metadata": {
        "id": "zPUWwbN-rUtZ"
      },
      "source": [
        "## Grid Search"
      ]
    },
    {
      "cell_type": "code",
      "metadata": {
        "colab": {
          "base_uri": "https://localhost:8080/"
        },
        "id": "mlfG7gA0rn6p",
        "outputId": "9c132dc6-5423-4491-b277-d2a17a939e7e"
      },
      "source": [
        "from sklearn.datasets import load_breast_cancer\n",
        "from sklearn.ensemble import GradientBoostingClassifier\n",
        "from sklearn.metrics import roc_auc_score\n",
        "\n",
        "from sklearn.model_selection import (\n",
        "    GridSearchCV,\n",
        "    train_test_split,\n",
        ")\n",
        "\n",
        "# if you want more information about the dataset for this demo:\n",
        "\n",
        "# scikit-learn dataset\n",
        "# https://scikit-learn.org/stable/datasets/toy_dataset.html#breast-cancer-dataset\n",
        "\n",
        "# dataset information: UCI Machine Learning Repository\n",
        "# https://archive.ics.uci.edu/ml/datasets/Breast+Cancer+Wisconsin+(Diagnostic)\n",
        "    \n",
        "# in short, classification problem, trying to predict whether the tumor\n",
        "# is malignant or benign\n",
        "\n",
        "# load dataset\n",
        "breast_cancer_X, breast_cancer_y = load_breast_cancer(return_X_y=True)\n",
        "X = pd.DataFrame(breast_cancer_X)\n",
        "y = pd.Series(breast_cancer_y).map({0:1, 1:0})\n",
        "\n",
        "X.head()\n",
        "\n",
        "# split dataset into a train and test set\n",
        "\n",
        "X_train, X_test, y_train, y_test = train_test_split(\n",
        "    X, y, test_size=0.3, random_state=0)\n",
        "\n",
        "X_train.shape, X_test.shape"
      ],
      "execution_count": null,
      "outputs": [
        {
          "output_type": "execute_result",
          "data": {
            "text/plain": [
              "((398, 30), (171, 30))"
            ]
          },
          "metadata": {
            "tags": []
          },
          "execution_count": 43
        }
      ]
    },
    {
      "cell_type": "code",
      "metadata": {
        "colab": {
          "base_uri": "https://localhost:8080/",
          "height": 425
        },
        "id": "wXQJv9Y_rt8w",
        "outputId": "7c29509b-a24b-4b61-d81c-d7f6369d5903"
      },
      "source": [
        "# set up the model\n",
        "gbm = GradientBoostingClassifier(random_state=0)\n",
        "\n",
        "# determine the hyperparameter space\n",
        "param_grid = dict(\n",
        "    n_estimators=[10, 20, 50, 100],\n",
        "    min_samples_split=[0.1, 0.3, 0.5],\n",
        "    max_depth=[1,2,3,4,None],\n",
        "    )\n",
        "\n",
        "print('Number of hyperparam combinations: ', \n",
        "      len(param_grid['n_estimators'])\n",
        "      *len(param_grid['min_samples_split'])\n",
        "      *len(param_grid['max_depth']))\n",
        "\n",
        "# set up the search\n",
        "search = GridSearchCV(gbm, param_grid, scoring='roc_auc', cv=5, refit=True)\n",
        "\n",
        "# find best hyperparameters\n",
        "search.fit(X_train, y_train)\n",
        "\n",
        "# the best hyperparameters are stored in an attribute\n",
        "search.best_params_\n",
        "\n",
        "# we also find the data for all models evaluated\n",
        "results = pd.DataFrame(search.cv_results_)\n",
        "\n",
        "print(results.shape)\n",
        "\n",
        "results.head()"
      ],
      "execution_count": null,
      "outputs": [
        {
          "output_type": "stream",
          "text": [
            "Number of hyperparam combinations:  60\n",
            "(60, 16)\n"
          ],
          "name": "stdout"
        },
        {
          "output_type": "execute_result",
          "data": {
            "text/html": [
              "<div>\n",
              "<style scoped>\n",
              "    .dataframe tbody tr th:only-of-type {\n",
              "        vertical-align: middle;\n",
              "    }\n",
              "\n",
              "    .dataframe tbody tr th {\n",
              "        vertical-align: top;\n",
              "    }\n",
              "\n",
              "    .dataframe thead th {\n",
              "        text-align: right;\n",
              "    }\n",
              "</style>\n",
              "<table border=\"1\" class=\"dataframe\">\n",
              "  <thead>\n",
              "    <tr style=\"text-align: right;\">\n",
              "      <th></th>\n",
              "      <th>mean_fit_time</th>\n",
              "      <th>std_fit_time</th>\n",
              "      <th>mean_score_time</th>\n",
              "      <th>std_score_time</th>\n",
              "      <th>param_max_depth</th>\n",
              "      <th>param_min_samples_split</th>\n",
              "      <th>param_n_estimators</th>\n",
              "      <th>params</th>\n",
              "      <th>split0_test_score</th>\n",
              "      <th>split1_test_score</th>\n",
              "      <th>split2_test_score</th>\n",
              "      <th>split3_test_score</th>\n",
              "      <th>split4_test_score</th>\n",
              "      <th>mean_test_score</th>\n",
              "      <th>std_test_score</th>\n",
              "      <th>rank_test_score</th>\n",
              "    </tr>\n",
              "  </thead>\n",
              "  <tbody>\n",
              "    <tr>\n",
              "      <th>0</th>\n",
              "      <td>0.015377</td>\n",
              "      <td>0.000478</td>\n",
              "      <td>0.002559</td>\n",
              "      <td>0.000164</td>\n",
              "      <td>1</td>\n",
              "      <td>0.1</td>\n",
              "      <td>10</td>\n",
              "      <td>{'max_depth': 1, 'min_samples_split': 0.1, 'n_...</td>\n",
              "      <td>0.979000</td>\n",
              "      <td>0.953000</td>\n",
              "      <td>0.966000</td>\n",
              "      <td>0.983103</td>\n",
              "      <td>0.940136</td>\n",
              "      <td>0.964248</td>\n",
              "      <td>0.016026</td>\n",
              "      <td>58</td>\n",
              "    </tr>\n",
              "    <tr>\n",
              "      <th>1</th>\n",
              "      <td>0.029829</td>\n",
              "      <td>0.001591</td>\n",
              "      <td>0.002921</td>\n",
              "      <td>0.000351</td>\n",
              "      <td>1</td>\n",
              "      <td>0.1</td>\n",
              "      <td>20</td>\n",
              "      <td>{'max_depth': 1, 'min_samples_split': 0.1, 'n_...</td>\n",
              "      <td>0.978333</td>\n",
              "      <td>0.952000</td>\n",
              "      <td>0.968667</td>\n",
              "      <td>0.986897</td>\n",
              "      <td>0.970068</td>\n",
              "      <td>0.971193</td>\n",
              "      <td>0.011607</td>\n",
              "      <td>52</td>\n",
              "    </tr>\n",
              "    <tr>\n",
              "      <th>2</th>\n",
              "      <td>0.068934</td>\n",
              "      <td>0.002686</td>\n",
              "      <td>0.002541</td>\n",
              "      <td>0.000152</td>\n",
              "      <td>1</td>\n",
              "      <td>0.1</td>\n",
              "      <td>50</td>\n",
              "      <td>{'max_depth': 1, 'min_samples_split': 0.1, 'n_...</td>\n",
              "      <td>0.997000</td>\n",
              "      <td>0.963667</td>\n",
              "      <td>0.983333</td>\n",
              "      <td>0.993103</td>\n",
              "      <td>0.980272</td>\n",
              "      <td>0.983475</td>\n",
              "      <td>0.011647</td>\n",
              "      <td>33</td>\n",
              "    </tr>\n",
              "    <tr>\n",
              "      <th>3</th>\n",
              "      <td>0.136100</td>\n",
              "      <td>0.004550</td>\n",
              "      <td>0.002425</td>\n",
              "      <td>0.000045</td>\n",
              "      <td>1</td>\n",
              "      <td>0.1</td>\n",
              "      <td>100</td>\n",
              "      <td>{'max_depth': 1, 'min_samples_split': 0.1, 'n_...</td>\n",
              "      <td>1.000000</td>\n",
              "      <td>0.974333</td>\n",
              "      <td>0.988667</td>\n",
              "      <td>0.997241</td>\n",
              "      <td>0.983673</td>\n",
              "      <td>0.988783</td>\n",
              "      <td>0.009298</td>\n",
              "      <td>17</td>\n",
              "    </tr>\n",
              "    <tr>\n",
              "      <th>4</th>\n",
              "      <td>0.016712</td>\n",
              "      <td>0.002303</td>\n",
              "      <td>0.002551</td>\n",
              "      <td>0.000550</td>\n",
              "      <td>1</td>\n",
              "      <td>0.3</td>\n",
              "      <td>10</td>\n",
              "      <td>{'max_depth': 1, 'min_samples_split': 0.3, 'n_...</td>\n",
              "      <td>0.979000</td>\n",
              "      <td>0.953000</td>\n",
              "      <td>0.966000</td>\n",
              "      <td>0.983103</td>\n",
              "      <td>0.940136</td>\n",
              "      <td>0.964248</td>\n",
              "      <td>0.016026</td>\n",
              "      <td>58</td>\n",
              "    </tr>\n",
              "  </tbody>\n",
              "</table>\n",
              "</div>"
            ],
            "text/plain": [
              "   mean_fit_time  std_fit_time  ...  std_test_score  rank_test_score\n",
              "0       0.015377      0.000478  ...        0.016026               58\n",
              "1       0.029829      0.001591  ...        0.011607               52\n",
              "2       0.068934      0.002686  ...        0.011647               33\n",
              "3       0.136100      0.004550  ...        0.009298               17\n",
              "4       0.016712      0.002303  ...        0.016026               58\n",
              "\n",
              "[5 rows x 16 columns]"
            ]
          },
          "metadata": {
            "tags": []
          },
          "execution_count": 45
        }
      ]
    },
    {
      "cell_type": "code",
      "metadata": {
        "colab": {
          "base_uri": "https://localhost:8080/",
          "height": 297
        },
        "id": "eplkJFBWr3eo",
        "outputId": "aa7b0268-329f-435e-897c-a2388acb4ec5"
      },
      "source": [
        "# we can order the different models based on their performance\n",
        "results.sort_values(by='mean_test_score', ascending=False, inplace=True)\n",
        "\n",
        "results.reset_index(drop=True, inplace=True)\n",
        "\n",
        "results[[\n",
        "    'param_max_depth', 'param_min_samples_split', 'param_n_estimators',\n",
        "    'mean_test_score', 'std_test_score',\n",
        "]].head()\n",
        "\n",
        "results[[\n",
        "    'param_max_depth', 'param_min_samples_split', 'param_n_estimators',\n",
        "    'mean_test_score', 'std_test_score',\n",
        "]].tail()\n",
        "\n",
        "# plot model performance and error\n",
        "\n",
        "results['mean_test_score'].plot(yerr=[results['std_test_score'], results['std_test_score']], subplots=True)\n",
        "\n",
        "plt.ylabel('Mean test score')\n",
        "plt.xlabel('Hyperparameter combinations')\n",
        "\n",
        "X_train_preds = search.predict_proba(X_train)[:,1]\n",
        "X_test_preds = search.predict_proba(X_test)[:,1]\n",
        "\n",
        "print('Train roc_auc: ', roc_auc_score(y_train, X_train_preds))\n",
        "print('Test roc_auc: ', roc_auc_score(y_test, X_test_preds))"
      ],
      "execution_count": null,
      "outputs": [
        {
          "output_type": "stream",
          "text": [
            "Train roc_auc:  1.0\n",
            "Test roc_auc:  0.996766607877719\n"
          ],
          "name": "stdout"
        },
        {
          "output_type": "display_data",
          "data": {
            "image/png": "[encoded data removed]",
            "text/plain": [
              "<Figure size 432x288 with 1 Axes>"
            ]
          },
          "metadata": {
            "tags": [],
            "needs_background": "light"
          }
        }
      ]
    },
    {
      "cell_type": "code",
      "metadata": {
        "colab": {
          "base_uri": "https://localhost:8080/",
          "height": 402
        },
        "id": "yO5P7V3OsRnJ",
        "outputId": "555ebac5-85f5-408b-c6d7-8b86b218e658"
      },
      "source": [
        "# let's make a function to evaluate the model performance based on\n",
        "# single hyperparameters\n",
        "\n",
        "def summarize_by_param(hparam):\n",
        "    \n",
        "    tmp = pd.concat([\n",
        "        results.groupby(hparam)['mean_test_score'].mean(),\n",
        "        results.groupby(hparam)['mean_test_score'].std(),\n",
        "    ], axis=1)\n",
        "\n",
        "    tmp.columns = ['mean_test_score', 'std_test_score']\n",
        "    \n",
        "    return tmp\n",
        "\n",
        "# performance change for n_estimators\n",
        "tmp = summarize_by_param('param_n_estimators')\n",
        "\n",
        "print(tmp.head())\n",
        "\n",
        "tmp['mean_test_score'].plot(yerr=[tmp['std_test_score'], tmp['std_test_score']], subplots=True)\n",
        "plt.ylabel('roc-auc')\n",
        "print(\"\\nThe optimal hyperparameter seems to be somewhere between 60 and 100.\")"
      ],
      "execution_count": null,
      "outputs": [
        {
          "output_type": "stream",
          "text": [
            "                    mean_test_score  std_test_score\n",
            "param_n_estimators                                 \n",
            "10                         0.973490        0.006358\n",
            "20                         0.980886        0.005249\n",
            "50                         0.987435        0.002506\n",
            "100                        0.990330        0.001649\n",
            "\n",
            "The optimal hyperparameter seems to be somewhere between 60 and 100.\n"
          ],
          "name": "stdout"
        },
        {
          "output_type": "display_data",
          "data": {
            "image/png": "[encoded data removed]",
            "text/plain": [
              "<Figure size 432x288 with 1 Axes>"
            ]
          },
          "metadata": {
            "tags": [],
            "needs_background": "light"
          }
        }
      ]
    },
    {
      "cell_type": "code",
      "metadata": {
        "colab": {
          "base_uri": "https://localhost:8080/",
          "height": 282
        },
        "id": "Ejuf5bHosibb",
        "outputId": "78f64efd-3178-43e2-ba25-fba21cb92c0d"
      },
      "source": [
        "tmp = summarize_by_param('param_max_depth')\n",
        "tmp['mean_test_score'].plot(yerr=[tmp['std_test_score'], tmp['std_test_score']], subplots=True)\n",
        "plt.ylabel('roc-auc')\n",
        "print(\"The optimal hyperparameter seems to be between 2 and 3.\")"
      ],
      "execution_count": null,
      "outputs": [
        {
          "output_type": "stream",
          "text": [
            "The optimal hyperparameter seems to be between 2 and 3.\n"
          ],
          "name": "stdout"
        },
        {
          "output_type": "display_data",
          "data": {
            "image/png": "[encoded data removed]",
            "text/plain": [
              "<Figure size 432x288 with 1 Axes>"
            ]
          },
          "metadata": {
            "tags": [],
            "needs_background": "light"
          }
        }
      ]
    },
    {
      "cell_type": "markdown",
      "metadata": {
        "id": "v1qrkwKCrXvo"
      },
      "source": [
        "## Random Search"
      ]
    },
    {
      "cell_type": "code",
      "metadata": {
        "colab": {
          "base_uri": "https://localhost:8080/"
        },
        "id": "JMF6-zz-BOm4",
        "outputId": "17d57a40-3f22-491c-f905-d916916557b3"
      },
      "source": [
        "from sklearn.datasets import load_breast_cancer\n",
        "from sklearn.ensemble import GradientBoostingClassifier\n",
        "from sklearn.metrics import roc_auc_score\n",
        "\n",
        "from sklearn.model_selection import (\n",
        "    RandomizedSearchCV,\n",
        "    train_test_split,\n",
        ")\n",
        "\n",
        "# if you want more information about the dataset for this demo:\n",
        "\n",
        "# scikit-learn dataset\n",
        "# https://scikit-learn.org/stable/datasets/toy_dataset.html#breast-cancer-dataset\n",
        "\n",
        "# dataset information: UCI Machine Learning Repository\n",
        "# https://archive.ics.uci.edu/ml/datasets/Breast+Cancer+Wisconsin+(Diagnostic)\n",
        "    \n",
        "# in short, classification problem, trying to predict whether the tumor\n",
        "# is malignant or benign\n",
        "\n",
        "# load dataset\n",
        "breast_cancer_X, breast_cancer_y = load_breast_cancer(return_X_y=True)\n",
        "X = pd.DataFrame(breast_cancer_X)\n",
        "y = pd.Series(breast_cancer_y).map({0:1, 1:0})\n",
        "\n",
        "X.head()\n",
        "\n",
        "# split dataset into a train and test set\n",
        "\n",
        "X_train, X_test, y_train, y_test = train_test_split(\n",
        "    X, y, test_size=0.3, random_state=0)\n",
        "\n",
        "X_train.shape, X_test.shape"
      ],
      "execution_count": null,
      "outputs": [
        {
          "output_type": "execute_result",
          "data": {
            "text/plain": [
              "((398, 30), (171, 30))"
            ]
          },
          "metadata": {
            "tags": []
          },
          "execution_count": 51
        }
      ]
    },
    {
      "cell_type": "code",
      "metadata": {
        "colab": {
          "base_uri": "https://localhost:8080/",
          "height": 297
        },
        "id": "brBb6nvxBoDe",
        "outputId": "8a0a9e37-2442-4bbf-e0ed-61477fef3d09"
      },
      "source": [
        "# set up the model\n",
        "gbm = GradientBoostingClassifier(random_state=0)\n",
        "\n",
        "# determine the hyperparameter space\n",
        "param_grid = dict(\n",
        "    n_estimators=stats.randint(10, 120),\n",
        "    min_samples_split=stats.uniform(0, 1),\n",
        "    max_depth=stats.randint(1, 5),\n",
        "    loss=('deviance', 'exponential'),\n",
        "    )\n",
        "\n",
        "# set up the search\n",
        "search = RandomizedSearchCV(gbm,\n",
        "                            param_grid,\n",
        "                            scoring='roc_auc',\n",
        "                            cv=5,\n",
        "                            n_iter = 60,\n",
        "                            random_state=10,\n",
        "                            n_jobs=4,\n",
        "                            refit=True)\n",
        "\n",
        "# find best hyperparameters\n",
        "search.fit(X_train, y_train)\n",
        "\n",
        "# the best hyperparameters are stored in an attribute\n",
        "\n",
        "search.best_params_\n",
        "\n",
        "# we also find the data for all models evaluated\n",
        "\n",
        "results = pd.DataFrame(search.cv_results_)\n",
        "\n",
        "print(results.shape)\n",
        "\n",
        "results.head()\n",
        "\n",
        "# we can order the different models based on their performance\n",
        "results.sort_values(by='mean_test_score', ascending=False, inplace=True)\n",
        "\n",
        "results.reset_index(drop=True, inplace=True)\n",
        "\n",
        "results[[\n",
        "    'param_max_depth', 'param_min_samples_split', 'param_n_estimators',\n",
        "    'mean_test_score', 'std_test_score',\n",
        "]].head()\n",
        "\n",
        "# plot model performance and error\n",
        "\n",
        "results['mean_test_score'].plot(yerr=[results['std_test_score'], results['std_test_score']], subplots=True)\n",
        "\n",
        "plt.ylabel('Mean test score')\n",
        "plt.xlabel('Hyperparameter combinations')\n",
        "\n",
        "X_train_preds = search.predict_proba(X_train)[:,1]\n",
        "X_test_preds = search.predict_proba(X_test)[:,1]\n",
        "\n",
        "print('Train roc_auc: ', roc_auc_score(y_train, X_train_preds))\n",
        "print('Test roc_auc: ', roc_auc_score(y_test, X_test_preds))"
      ],
      "execution_count": null,
      "outputs": [
        {
          "output_type": "stream",
          "text": [
            "(60, 17)\n"
          ],
          "name": "stdout"
        },
        {
          "output_type": "execute_result",
          "data": {
            "text/plain": [
              "Text(0.5, 0, 'Hyperparameter combinations')"
            ]
          },
          "metadata": {
            "tags": []
          },
          "execution_count": 52
        },
        {
          "output_type": "display_data",
          "data": {
            "image/png": "[encoded data removed]",
            "text/plain": [
              "<Figure size 432x288 with 1 Axes>"
            ]
          },
          "metadata": {
            "tags": [],
            "needs_background": "light"
          }
        }
      ]
    },
    {
      "cell_type": "code",
      "metadata": {
        "colab": {
          "base_uri": "https://localhost:8080/",
          "height": 284
        },
        "id": "42TuUoVeB29c",
        "outputId": "01afa36a-528a-4f75-9fa9-818843e22cc0"
      },
      "source": [
        "# let's make a function to evaluate the model performance based on\n",
        "# single hyperparameters\n",
        "\n",
        "def summarize_by_param(hparam):\n",
        "    \n",
        "    tmp = pd.concat([\n",
        "        results.groupby(hparam)['mean_test_score'].mean(),\n",
        "        results.groupby(hparam)['mean_test_score'].std(),\n",
        "    ], axis=1)\n",
        "\n",
        "    tmp.columns = ['mean_test_score', 'std_test_score']\n",
        "    \n",
        "    return tmp\n",
        "\n",
        "# performance change for n_estimators\n",
        "\n",
        "tmp = summarize_by_param('param_n_estimators')\n",
        "\n",
        "tmp.head()\n",
        "\n",
        "tmp['mean_test_score'].plot(yerr=[tmp['std_test_score'], tmp['std_test_score']], subplots=True)\n",
        "plt.ylabel('roc-auc')\n",
        "print(\"The optimal hyperparameter seems to be somewhere between 60 and 100.\")"
      ],
      "execution_count": null,
      "outputs": [
        {
          "output_type": "stream",
          "text": [
            "The optimal hyperparameter seems to be somewhere between 60 and 100.\n"
          ],
          "name": "stdout"
        },
        {
          "output_type": "display_data",
          "data": {
            "image/png": "[encoded data removed]",
            "text/plain": [
              "<Figure size 432x288 with 1 Axes>"
            ]
          },
          "metadata": {
            "tags": [],
            "needs_background": "light"
          }
        }
      ]
    },
    {
      "cell_type": "markdown",
      "metadata": {
        "id": "jNkYoPE-EznU"
      },
      "source": [
        "## Randomized Search with Scikit Optimize"
      ]
    },
    {
      "cell_type": "code",
      "metadata": {
        "colab": {
          "base_uri": "https://localhost:8080/"
        },
        "id": "WKjofwbeFCub",
        "outputId": "bac0c1f7-59c9-46f7-e065-48e37a17246e"
      },
      "source": [
        "from sklearn.datasets import load_breast_cancer\n",
        "from sklearn.ensemble import GradientBoostingClassifier\n",
        "from sklearn.model_selection import cross_val_score, train_test_split\n",
        "\n",
        "from skopt import dummy_minimize # for the randomized search\n",
        "from skopt.plots import plot_convergence\n",
        "from skopt.space import Real, Integer, Categorical\n",
        "from skopt.utils import use_named_args\n",
        "\n",
        "# load dataset\n",
        "\n",
        "breast_cancer_X, breast_cancer_y = load_breast_cancer(return_X_y=True)\n",
        "X = pd.DataFrame(breast_cancer_X)\n",
        "y = pd.Series(breast_cancer_y).map({0:1, 1:0})\n",
        "\n",
        "X.head()\n",
        "\n",
        "# split dataset into a train and test set\n",
        "\n",
        "X_train, X_test, y_train, y_test = train_test_split(\n",
        "    X, y, test_size=0.3, random_state=0)\n",
        "\n",
        "X_train.shape, X_test.shape"
      ],
      "execution_count": null,
      "outputs": [
        {
          "output_type": "execute_result",
          "data": {
            "text/plain": [
              "((398, 30), (171, 30))"
            ]
          },
          "metadata": {
            "tags": []
          },
          "execution_count": 63
        }
      ]
    },
    {
      "cell_type": "code",
      "metadata": {
        "colab": {
          "base_uri": "https://localhost:8080/"
        },
        "id": "1SXsfz9uFHDm",
        "outputId": "023b6412-b664-4cfd-a70d-0635b2e0d957"
      },
      "source": [
        "# With Integer, we create a space of integers, sampled uniformly\n",
        "# between the minimum and maximum indicated values\n",
        "\n",
        "Integer(10, 120, name=\"n_estimators\")\n",
        "\n",
        "# With Real, we create a space of real values, sampled uniformly\n",
        "# between the minimum and maximum indicated values\n",
        "\n",
        "Real(0, 1, name=\"min_samples_split\")\n",
        "\n",
        "# With Categorical, we create a space of categories\n",
        "\n",
        "Categorical(['deviance', 'exponential'], name=\"loss\")\n",
        "\n",
        "# determine the hyperparameter space\n",
        "\n",
        "param_grid = [\n",
        "    Integer(10, 120, name=\"n_estimators\"),\n",
        "    Real(0, 0.999, name=\"min_samples_split\"),\n",
        "    Integer(1, 5, name=\"max_depth\"),\n",
        "    Categorical(['deviance', 'exponential'], name=\"loss\"),\n",
        "]\n",
        "\n",
        "# Scikit-optimize parameter grid is a list\n",
        "type(param_grid)"
      ],
      "execution_count": null,
      "outputs": [
        {
          "output_type": "execute_result",
          "data": {
            "text/plain": [
              "list"
            ]
          },
          "metadata": {
            "tags": []
          },
          "execution_count": 64
        }
      ]
    },
    {
      "cell_type": "code",
      "metadata": {
        "colab": {
          "base_uri": "https://localhost:8080/",
          "height": 414
        },
        "id": "4NAOYpvSFLdB",
        "outputId": "ab3de334-94c5-47e9-90aa-c300881771f4"
      },
      "source": [
        "# set up the gradient boosting classifier\n",
        "\n",
        "gbm = GradientBoostingClassifier(random_state=0)\n",
        "\n",
        "# We design a function to maximize the accuracy, of a GBM,\n",
        "# with cross-validation\n",
        "\n",
        "# the decorator allows our objective function to receive the parameters as\n",
        "# keyword arguments. This is a requirement for scikit-optimize.\n",
        "\n",
        "@use_named_args(param_grid)\n",
        "def objective(**params):\n",
        "    \n",
        "    # model with new parameters\n",
        "    gbm.set_params(**params)\n",
        "\n",
        "    # optimization function (hyperparam response function)\n",
        "    value = np.mean(\n",
        "        cross_val_score(\n",
        "            gbm, \n",
        "            X_train,\n",
        "            y_train,\n",
        "            cv=3,\n",
        "            n_jobs=-4,\n",
        "            scoring='accuracy')\n",
        "    )\n",
        "\n",
        "    # negate because we need to minimize\n",
        "    return -value\n",
        "\n",
        "# dummy_minimize performs the randomized search\n",
        "\n",
        "search = dummy_minimize(\n",
        "    objective,  # the objective function to minimize\n",
        "    param_grid,  # the hyperparameter space\n",
        "    n_calls=50,  # the number of subsequent evaluations of f(x)\n",
        "    random_state=0,\n",
        ")\n",
        "\n",
        "# function value at the minimum.\n",
        "# note that it is the negative of the accuracy\n",
        "\n",
        "\"Best score=%.4f\" % search.fun\n",
        "\n",
        "print(\"\"\"Best parameters:\n",
        "=========================\n",
        "- n_estimators=%d\n",
        "- min_samples_split=%.6f\n",
        "- max_depth=%d\n",
        "- loss=%s\"\"\" % (search.x[0], \n",
        "                search.x[1],\n",
        "                search.x[2],\n",
        "                search.x[3]))\n",
        "\n",
        "plot_convergence(search)"
      ],
      "execution_count": null,
      "outputs": [
        {
          "output_type": "stream",
          "text": [
            "Best parameters:\n",
            "=========================\n",
            "- n_estimators=112\n",
            "- min_samples_split=0.669967\n",
            "- max_depth=3\n",
            "- loss=deviance\n"
          ],
          "name": "stdout"
        },
        {
          "output_type": "execute_result",
          "data": {
            "text/plain": [
              "<matplotlib.axes._subplots.AxesSubplot at 0x7fa26a0b5790>"
            ]
          },
          "metadata": {
            "tags": []
          },
          "execution_count": 65
        },
        {
          "output_type": "display_data",
          "data": {
            "image/png": "[encoded data removed]",
            "text/plain": [
              "<Figure size 432x288 with 1 Axes>"
            ]
          },
          "metadata": {
            "tags": [],
            "needs_background": "light"
          }
        }
      ]
    },
    {
      "cell_type": "markdown",
      "metadata": {
        "id": "8fJus2_1F1OM"
      },
      "source": [
        "## Randomized Search with Hyperopt"
      ]
    },
    {
      "cell_type": "code",
      "metadata": {
        "id": "tfvBp5R7F5_S"
      },
      "source": [
        "from sklearn.datasets import load_breast_cancer\n",
        "from sklearn.metrics import accuracy_score\n",
        "from sklearn.model_selection import cross_val_score, train_test_split\n",
        "\n",
        "import xgboost as xgb\n",
        "\n",
        "from hyperopt import hp, rand, fmin, Trials\n",
        "\n",
        "# hp: define the hyperparameter space\n",
        "# rand: random search\n",
        "# fmin: optimization function\n",
        "# Trials: to evaluate the different searched hyperparameters\n",
        "\n",
        "# load dataset\n",
        "\n",
        "breast_cancer_X, breast_cancer_y = load_breast_cancer(return_X_y=True)\n",
        "X = pd.DataFrame(breast_cancer_X)\n",
        "y = pd.Series(breast_cancer_y).map({0:1, 1:0})\n",
        "\n",
        "X.head()\n",
        "\n",
        "# determine the hyperparameter space\n",
        "\n",
        "param_grid = {\n",
        "    'n_estimators': hp.quniform('n_estimators', 200, 2500, 100),\n",
        "    'max_depth': hp.uniform('max_depth', 1, 10),\n",
        "    'learning_rate': hp.uniform('learning_rate', 0.01, 0.99),\n",
        "    'booster': hp.choice('booster', ['gbtree', 'dart']),\n",
        "    'gamma': hp.quniform('gamma', 0.01, 10, 0.1),\n",
        "    'subsample': hp.uniform('subsample', 0.50, 0.90),\n",
        "    'colsample_bytree': hp.uniform('colsample_bytree', 0.50, 0.99),\n",
        "    'colsample_bylevel': hp.uniform('colsample_bylevel', 0.50, 0.99),\n",
        "    'colsample_bynode': hp.uniform('colsample_bynode', 0.50, 0.99),\n",
        "    'reg_lambda': hp.uniform('reg_lambda', 1, 20)\n",
        "}"
      ],
      "execution_count": null,
      "outputs": []
    },
    {
      "cell_type": "code",
      "metadata": {
        "colab": {
          "base_uri": "https://localhost:8080/"
        },
        "id": "P-rdKxecGCZV",
        "outputId": "8015b2bb-8fe6-433d-c07d-dd1ef4c0dfe8"
      },
      "source": [
        "# the objective function takes the hyperparameter space\n",
        "# as input\n",
        "\n",
        "def objective(params):\n",
        "\n",
        "    # we need a dictionary to indicate which value from the space\n",
        "    # to attribute to each value of the hyperparameter in the xgb\n",
        "    params_dict = {\n",
        "        'n_estimators': int(params['n_estimators']), # important int, as it takes integers only\n",
        "        'max_depth': int(params['max_depth']), # important int, as it takes integers only\n",
        "        'learning_rate': params['learning_rate'],\n",
        "        'booster': params['booster'],\n",
        "        'gamma': params['gamma'],\n",
        "        'subsample': params['subsample'],\n",
        "        'colsample_bytree': params['colsample_bytree'],\n",
        "        'colsample_bylevel': params['colsample_bylevel'],\n",
        "        'colsample_bynode': params['colsample_bynode'],\n",
        "        'random_state': 1000,\n",
        "    }\n",
        "\n",
        "    # with ** we pass the items in the dictionary as parameters\n",
        "    # to the xgb\n",
        "    gbm = xgb.XGBClassifier(**params_dict)\n",
        "\n",
        "    # train with cv\n",
        "    score = cross_val_score(gbm, X_train, y_train,\n",
        "                            scoring='accuracy', cv=5, n_jobs=4).mean()\n",
        "\n",
        "    # to minimize, we negate the score\n",
        "    return -score\n",
        "\n",
        "# fmin performs the minimization\n",
        "# rand.suggest samples the parameters at random\n",
        "# i.e., performs the random search\n",
        "\n",
        "search = fmin(\n",
        "    fn=objective,\n",
        "    space=param_grid,\n",
        "    max_evals=50,\n",
        "    rstate=np.random.RandomState(42),\n",
        "    algo=rand.suggest,  # randomized search\n",
        ")\n",
        "\n",
        "print(search) \n",
        "\n",
        "# create another dictionary to pass the search items as parameters\n",
        "# to a new xgb\n",
        "\n",
        "best_hp_dict = {\n",
        "        'n_estimators': int(search['n_estimators']), # important int, as it takes integers only\n",
        "        'max_depth': int(search['max_depth']), # important int, as it takes integers only\n",
        "        'learning_rate': search['learning_rate'],\n",
        "        'booster': 'gbtree',\n",
        "        'gamma': search['gamma'],\n",
        "        'subsample': search['subsample'],\n",
        "        'colsample_bytree': search['colsample_bytree'],\n",
        "        'colsample_bylevel': search['colsample_bylevel'],\n",
        "        'colsample_bynode': search['colsample_bynode'],\n",
        "        'random_state': 1000,\n",
        "}\n",
        "\n",
        "# after the search we can train the model with the\n",
        "# best parameters manually\n",
        "\n",
        "gbm_final = xgb.XGBClassifier(**best_hp_dict)\n",
        "\n",
        "gbm_final.fit(X_train, y_train)\n",
        "\n",
        "X_train_preds = gbm_final.predict(X_train)\n",
        "X_test_preds = gbm_final.predict(X_test)\n",
        "\n",
        "print('Train accuracy: ', accuracy_score(y_train, X_train_preds))\n",
        "print('Test accuracy: ', accuracy_score(y_test, X_test_preds))"
      ],
      "execution_count": null,
      "outputs": [
        {
          "output_type": "stream",
          "text": [
            "100%|██████████| 50/50 [06:08<00:00,  7.36s/it, best loss: -0.9648417721518987]\n",
            "{'booster': 1, 'colsample_bylevel': 0.7333844712287575, 'colsample_bynode': 0.7868780072919006, 'colsample_bytree': 0.532897387680557, 'gamma': 1.7000000000000002, 'learning_rate': 0.791490026424058, 'max_depth': 4.37389558516932, 'n_estimators': 2200.0, 'reg_lambda': 1.250477677119223, 'subsample': 0.7108439230986429}\n",
            "Train accuracy:  0.9974874371859297\n",
            "Test accuracy:  0.9766081871345029\n"
          ],
          "name": "stdout"
        }
      ]
    },
    {
      "cell_type": "code",
      "metadata": {
        "colab": {
          "base_uri": "https://localhost:8080/",
          "height": 447
        },
        "id": "dyz6g8KmGfln",
        "outputId": "4878d202-771b-4c76-c820-22f0854710a0"
      },
      "source": [
        "trials = Trials()\n",
        "\n",
        "second_search = fmin(\n",
        "    fn=objective,\n",
        "    space=param_grid,\n",
        "    max_evals=50,\n",
        "    rstate=np.random.RandomState(42),\n",
        "    algo=rand.suggest,  # randomized search\n",
        "    trials = trials\n",
        ")\n",
        "\n",
        "# best hyperparameters\n",
        "\n",
        "second_search\n",
        "\n",
        "# the best hyperparameters can also be found in\n",
        "# trials\n",
        "\n",
        "trials.argmin\n",
        "\n",
        "# the search hyperparameter combinations\n",
        "\n",
        "pd.DataFrame(trials.vals).head()\n",
        "\n",
        "results = pd.concat([\n",
        "    pd.DataFrame(trials.vals),\n",
        "    pd.DataFrame(trials.results)],\n",
        "    axis=1,\n",
        ").sort_values(by='loss', ascending=False).reset_index(drop=True)\n",
        "\n",
        "print(results.head())\n",
        "\n",
        "results['loss'].plot()\n",
        "plt.ylabel('Accuracy')\n",
        "plt.xlabel('Hyperparam combination')"
      ],
      "execution_count": null,
      "outputs": [
        {
          "output_type": "stream",
          "text": [
            "100%|██████████| 50/50 [06:08<00:00,  7.37s/it, best loss: -0.9648417721518987]\n",
            "   booster  colsample_bylevel  colsample_bynode  ...  subsample      loss  status\n",
            "0        1           0.601370          0.692034  ...   0.659114 -0.932025      ok\n",
            "1        1           0.861998          0.952756  ...   0.880990 -0.932152      ok\n",
            "2        0           0.963230          0.801626  ...   0.632172 -0.934589      ok\n",
            "3        0           0.715311          0.678727  ...   0.764709 -0.934652      ok\n",
            "4        1           0.958505          0.874145  ...   0.815725 -0.937120      ok\n",
            "\n",
            "[5 rows x 12 columns]\n"
          ],
          "name": "stdout"
        },
        {
          "output_type": "execute_result",
          "data": {
            "text/plain": [
              "Text(0.5, 0, 'Hyperparam combination')"
            ]
          },
          "metadata": {
            "tags": []
          },
          "execution_count": 68
        },
        {
          "output_type": "display_data",
          "data": {
            "image/png": "[encoded data removed]",
            "text/plain": [
              "<Figure size 432x288 with 1 Axes>"
            ]
          },
          "metadata": {
            "tags": [],
            "needs_background": "light"
          }
        }
      ]
    },
    {
      "cell_type": "markdown",
      "metadata": {
        "id": "5REJTAo7yh0G"
      },
      "source": [
        "# Bayesian Optimization"
      ]
    },
    {
      "cell_type": "markdown",
      "metadata": {
        "id": "UlGjHQs9305I"
      },
      "source": [
        "## Scikit-Optimize\n"
      ]
    },
    {
      "cell_type": "code",
      "metadata": {
        "colab": {
          "base_uri": "https://localhost:8080/"
        },
        "id": "iSOQ-ebU7ObC",
        "outputId": "7b322a2e-4ab3-4d32-d95d-bb3703740e03"
      },
      "source": [
        "from sklearn.datasets import load_breast_cancer\n",
        "from sklearn.ensemble import GradientBoostingClassifier\n",
        "from sklearn.model_selection import cross_val_score, train_test_split\n",
        "\n",
        "from skopt import dummy_minimize, gp_minimize, forest_minimize, gbrt_minimize # for the randomized search\n",
        "\n",
        "# for the analysis\n",
        "from skopt.plots import (\n",
        "    plot_convergence,\n",
        "    plot_evaluations,\n",
        ")\n",
        "\n",
        "from skopt.space import Real, Integer, Categorical\n",
        "from skopt.utils import use_named_args\n",
        "\n",
        "# load dataset\n",
        "\n",
        "breast_cancer_X, breast_cancer_y = load_breast_cancer(return_X_y=True)\n",
        "X = pd.DataFrame(breast_cancer_X)\n",
        "y = pd.Series(breast_cancer_y).map({0:1, 1:0})\n",
        "\n",
        "X.head()\n",
        "\n",
        "# split dataset into a train and test set\n",
        "\n",
        "X_train, X_test, y_train, y_test = train_test_split(\n",
        "    X, y, test_size=0.3, random_state=0)\n",
        "\n",
        "X_train.shape, X_test.shape"
      ],
      "execution_count": null,
      "outputs": [
        {
          "output_type": "execute_result",
          "data": {
            "text/plain": [
              "((398, 30), (171, 30))"
            ]
          },
          "metadata": {
            "tags": []
          },
          "execution_count": 5
        }
      ]
    },
    {
      "cell_type": "code",
      "metadata": {
        "id": "gngWJpZO8A27"
      },
      "source": [
        "# determine the hyperparameter space\n",
        "\n",
        "param_grid = [\n",
        "    Integer(10, 120, name=\"n_estimators\"),\n",
        "    Integer(1, 5, name=\"max_depth\"),\n",
        "    Real(0.0001, 0.1, prior='log-uniform', name='learning_rate'),\n",
        "    Real(0.001, 0.999, prior='log-uniform', name=\"min_samples_split\"),\n",
        "    Categorical(['deviance', 'exponential'], name=\"loss\"),\n",
        "]\n",
        "\n",
        "# Scikit-optimize parameter grid is a list\n",
        "type(param_grid)\n",
        "\n",
        "# set up the gradient boosting classifier\n",
        "\n",
        "gbm = GradientBoostingClassifier(random_state=0)\n",
        "\n",
        "# We design a function to maximize the accuracy, of a GBM,\n",
        "# with cross-validation\n",
        "\n",
        "# the decorator allows our objective function to receive the parameters as\n",
        "# keyword arguments. This is a requirement for scikit-optimize.\n",
        "\n",
        "@use_named_args(param_grid)\n",
        "def objective(**params):\n",
        "    \n",
        "    # model with new parameters\n",
        "    gbm.set_params(**params)\n",
        "\n",
        "    # optimization function (hyperparam response function)\n",
        "    value = np.mean(\n",
        "        cross_val_score(\n",
        "            gbm, \n",
        "            X_train,\n",
        "            y_train,\n",
        "            cv=3,\n",
        "            n_jobs=-4,\n",
        "            scoring='accuracy')\n",
        "    )\n",
        "\n",
        "    # negate because we need to minimize\n",
        "    return -value"
      ],
      "execution_count": null,
      "outputs": []
    },
    {
      "cell_type": "markdown",
      "metadata": {
        "id": "QVNUCdlI5Wxe"
      },
      "source": [
        "### Random Search"
      ]
    },
    {
      "cell_type": "code",
      "metadata": {
        "colab": {
          "base_uri": "https://localhost:8080/",
          "height": 1000
        },
        "id": "sKH2idys8Fxa",
        "outputId": "45f71560-b5a3-4319-a577-9ffbd2e59d2a"
      },
      "source": [
        "# dummy_minimize performs the randomized search\n",
        "\n",
        "search = dummy_minimize(\n",
        "    objective,  # the objective function to minimize\n",
        "    param_grid,  # the hyperparameter space\n",
        "    n_calls=50,  # the number of evaluations of the objective function\n",
        "    random_state=0,\n",
        ")\n",
        "\n",
        "# function value at the minimum.\n",
        "# note that it is the negative of the accuracy\n",
        "\n",
        "print(\"Best score=%.4f\" % search.fun)\n",
        "\n",
        "print(\"\"\"Best parameters:\n",
        "=========================\n",
        "- n_estimators = %d\n",
        "- max-depth = %d\n",
        "- min_samples_split = %.3f\n",
        "- learning_rate = %.3f\n",
        "- loss = %s\"\"\" % (search.x[0], \n",
        "                search.x[1],\n",
        "                search.x[2],\n",
        "                search.x[3],\n",
        "                search.x[4],\n",
        "               ))\n",
        "\n",
        "plot_convergence(search)\n",
        "\n",
        "dim_names = ['n_estimators', 'max_depth', 'min_samples_split', 'learning_rate', 'loss']\n",
        "\n",
        "plot_evaluations(result=search, plot_dims=dim_names)\n",
        "plt.show()\n",
        "\n",
        "# all together in one dataframe, so we can investigate further\n",
        "\n",
        "tmp = pd.concat([\n",
        "    pd.DataFrame(search.x_iters),\n",
        "    pd.Series(search.func_vals),\n",
        "], axis=1)\n",
        "\n",
        "tmp.columns = dim_names + ['accuracy']\n",
        "\n",
        "tmp.sort_values(by='accuracy', ascending=True, inplace=True)\n",
        "\n",
        "tmp.head()"
      ],
      "execution_count": null,
      "outputs": [
        {
          "output_type": "stream",
          "text": [
            "Best score=-0.9523\n",
            "Best parameters:\n",
            "=========================\n",
            "- n_estimators = 117\n",
            "- max-depth = 2\n",
            "- min_samples_split = 0.094\n",
            "- learning_rate = 0.004\n",
            "- loss = exponential\n"
          ],
          "name": "stdout"
        },
        {
          "output_type": "display_data",
          "data": {
            "image/png": "[encoded data removed]",
            "text/plain": [
              "<Figure size 432x288 with 1 Axes>"
            ]
          },
          "metadata": {
            "tags": [],
            "needs_background": "light"
          }
        },
        {
          "output_type": "display_data",
          "data": {
            "image/png": "[encoded data removed]",
            "text/plain": [
              "<Figure size 720x720 with 25 Axes>"
            ]
          },
          "metadata": {
            "tags": [],
            "needs_background": "light"
          }
        },
        {
          "output_type": "execute_result",
          "data": {
            "text/html": [
              "<div>\n",
              "<style scoped>\n",
              "    .dataframe tbody tr th:only-of-type {\n",
              "        vertical-align: middle;\n",
              "    }\n",
              "\n",
              "    .dataframe tbody tr th {\n",
              "        vertical-align: top;\n",
              "    }\n",
              "\n",
              "    .dataframe thead th {\n",
              "        text-align: right;\n",
              "    }\n",
              "</style>\n",
              "<table border=\"1\" class=\"dataframe\">\n",
              "  <thead>\n",
              "    <tr style=\"text-align: right;\">\n",
              "      <th></th>\n",
              "      <th>n_estimators</th>\n",
              "      <th>max_depth</th>\n",
              "      <th>min_samples_split</th>\n",
              "      <th>learning_rate</th>\n",
              "      <th>loss</th>\n",
              "      <th>accuracy</th>\n",
              "    </tr>\n",
              "  </thead>\n",
              "  <tbody>\n",
              "    <tr>\n",
              "      <th>48</th>\n",
              "      <td>117</td>\n",
              "      <td>2</td>\n",
              "      <td>0.093544</td>\n",
              "      <td>0.004473</td>\n",
              "      <td>exponential</td>\n",
              "      <td>-0.952267</td>\n",
              "    </tr>\n",
              "    <tr>\n",
              "      <th>9</th>\n",
              "      <td>68</td>\n",
              "      <td>1</td>\n",
              "      <td>0.050938</td>\n",
              "      <td>0.001985</td>\n",
              "      <td>exponential</td>\n",
              "      <td>-0.949761</td>\n",
              "    </tr>\n",
              "    <tr>\n",
              "      <th>19</th>\n",
              "      <td>92</td>\n",
              "      <td>4</td>\n",
              "      <td>0.039383</td>\n",
              "      <td>0.033627</td>\n",
              "      <td>exponential</td>\n",
              "      <td>-0.947273</td>\n",
              "    </tr>\n",
              "    <tr>\n",
              "      <th>25</th>\n",
              "      <td>62</td>\n",
              "      <td>4</td>\n",
              "      <td>0.072152</td>\n",
              "      <td>0.021937</td>\n",
              "      <td>exponential</td>\n",
              "      <td>-0.944748</td>\n",
              "    </tr>\n",
              "    <tr>\n",
              "      <th>4</th>\n",
              "      <td>79</td>\n",
              "      <td>1</td>\n",
              "      <td>0.086269</td>\n",
              "      <td>0.249533</td>\n",
              "      <td>deviance</td>\n",
              "      <td>-0.944710</td>\n",
              "    </tr>\n",
              "  </tbody>\n",
              "</table>\n",
              "</div>"
            ],
            "text/plain": [
              "    n_estimators  max_depth  ...         loss  accuracy\n",
              "48           117          2  ...  exponential -0.952267\n",
              "9             68          1  ...  exponential -0.949761\n",
              "19            92          4  ...  exponential -0.947273\n",
              "25            62          4  ...  exponential -0.944748\n",
              "4             79          1  ...     deviance -0.944710\n",
              "\n",
              "[5 rows x 6 columns]"
            ]
          },
          "metadata": {
            "tags": []
          },
          "execution_count": 9
        }
      ]
    },
    {
      "cell_type": "markdown",
      "metadata": {
        "id": "H8tvv_ea5Y_B"
      },
      "source": [
        "### Gaussian Process Manual"
      ]
    },
    {
      "cell_type": "code",
      "metadata": {
        "colab": {
          "base_uri": "https://localhost:8080/",
          "height": 1000
        },
        "id": "OYMcRpGE86gp",
        "outputId": "0263981c-d04e-4ccf-e320-5aa3fb31eb41"
      },
      "source": [
        "# gp_minimize performs by default GP Optimization \n",
        "# using a Marten Kernel\n",
        "\n",
        "gp_ = gp_minimize(\n",
        "    objective, # the objective function to minimize\n",
        "    param_grid, # the hyperparameter space\n",
        "    n_initial_points=10, # the number of points to evaluate f(x) to start of\n",
        "    acq_func='EI', # the acquisition function\n",
        "    n_calls=30, # the number of subsequent evaluations of f(x)\n",
        "    random_state=0,\n",
        ")\n",
        "# function value at the minimum.\n",
        "# note that it is the negative of the accuracy\n",
        "\n",
        "print(\"Best score=%.4f\" % gp_.fun)\n",
        "\n",
        "print(\"\"\"Best parameters:\n",
        "=========================\n",
        "- n_estimators = %d\n",
        "- max-depth = %d\n",
        "- min_samples_split = %.3f\n",
        "- learning_rate = %.3f\n",
        "- loss = %s\"\"\" % (gp_.x[0], \n",
        "                gp_.x[1],\n",
        "                gp_.x[2],\n",
        "                gp_.x[3],\n",
        "                gp_.x[4],\n",
        "               ))\n",
        "\n",
        "plot_convergence(gp_)\n",
        "\n",
        "dim_names = ['n_estimators', 'max_depth', 'min_samples_split', 'learning_rate', 'loss']\n",
        "\n",
        "plot_evaluations(result=gp_, plot_dims=dim_names)\n",
        "plt.show()\n",
        "\n",
        "# all together in one dataframe, so we can investigate further\n",
        "\n",
        "tmp = pd.concat([\n",
        "    pd.DataFrame(gp_.x_iters),\n",
        "    pd.Series(gp_.func_vals),\n",
        "], axis=1)\n",
        "\n",
        "tmp.columns = dim_names + ['accuracy']\n",
        "\n",
        "tmp.sort_values(by='accuracy', ascending=True, inplace=True)\n",
        "\n",
        "tmp.head()"
      ],
      "execution_count": null,
      "outputs": [
        {
          "output_type": "stream",
          "text": [
            "/usr/local/lib/python3.7/dist-packages/skopt/optimizer/optimizer.py:449: UserWarning: The objective has been evaluated at this point before.\n",
            "  warnings.warn(\"The objective has been evaluated \"\n"
          ],
          "name": "stderr"
        },
        {
          "output_type": "stream",
          "text": [
            "Best score=-0.9573\n",
            "Best parameters:\n",
            "=========================\n",
            "- n_estimators = 120\n",
            "- max-depth = 5\n",
            "- min_samples_split = 0.100\n",
            "- learning_rate = 0.999\n",
            "- loss = exponential\n"
          ],
          "name": "stdout"
        },
        {
          "output_type": "display_data",
          "data": {
            "image/png": "[encoded data removed]",
            "text/plain": [
              "<Figure size 432x288 with 1 Axes>"
            ]
          },
          "metadata": {
            "tags": [],
            "needs_background": "light"
          }
        },
        {
          "output_type": "display_data",
          "data": {
            "image/png": "[encoded data removed]",
            "text/plain": [
              "<Figure size 720x720 with 25 Axes>"
            ]
          },
          "metadata": {
            "tags": [],
            "needs_background": "light"
          }
        },
        {
          "output_type": "execute_result",
          "data": {
            "text/html": [
              "<div>\n",
              "<style scoped>\n",
              "    .dataframe tbody tr th:only-of-type {\n",
              "        vertical-align: middle;\n",
              "    }\n",
              "\n",
              "    .dataframe tbody tr th {\n",
              "        vertical-align: top;\n",
              "    }\n",
              "\n",
              "    .dataframe thead th {\n",
              "        text-align: right;\n",
              "    }\n",
              "</style>\n",
              "<table border=\"1\" class=\"dataframe\">\n",
              "  <thead>\n",
              "    <tr style=\"text-align: right;\">\n",
              "      <th></th>\n",
              "      <th>n_estimators</th>\n",
              "      <th>max_depth</th>\n",
              "      <th>min_samples_split</th>\n",
              "      <th>learning_rate</th>\n",
              "      <th>loss</th>\n",
              "      <th>accuracy</th>\n",
              "    </tr>\n",
              "  </thead>\n",
              "  <tbody>\n",
              "    <tr>\n",
              "      <th>25</th>\n",
              "      <td>120</td>\n",
              "      <td>1</td>\n",
              "      <td>0.1</td>\n",
              "      <td>0.999</td>\n",
              "      <td>exponential</td>\n",
              "      <td>-0.957280</td>\n",
              "    </tr>\n",
              "    <tr>\n",
              "      <th>20</th>\n",
              "      <td>120</td>\n",
              "      <td>2</td>\n",
              "      <td>0.1</td>\n",
              "      <td>0.999</td>\n",
              "      <td>deviance</td>\n",
              "      <td>-0.957280</td>\n",
              "    </tr>\n",
              "    <tr>\n",
              "      <th>19</th>\n",
              "      <td>120</td>\n",
              "      <td>1</td>\n",
              "      <td>0.1</td>\n",
              "      <td>0.999</td>\n",
              "      <td>exponential</td>\n",
              "      <td>-0.957280</td>\n",
              "    </tr>\n",
              "    <tr>\n",
              "      <th>12</th>\n",
              "      <td>120</td>\n",
              "      <td>5</td>\n",
              "      <td>0.1</td>\n",
              "      <td>0.999</td>\n",
              "      <td>exponential</td>\n",
              "      <td>-0.957280</td>\n",
              "    </tr>\n",
              "    <tr>\n",
              "      <th>28</th>\n",
              "      <td>83</td>\n",
              "      <td>1</td>\n",
              "      <td>0.1</td>\n",
              "      <td>0.999</td>\n",
              "      <td>exponential</td>\n",
              "      <td>-0.952248</td>\n",
              "    </tr>\n",
              "  </tbody>\n",
              "</table>\n",
              "</div>"
            ],
            "text/plain": [
              "    n_estimators  max_depth  ...         loss  accuracy\n",
              "25           120          1  ...  exponential -0.957280\n",
              "20           120          2  ...     deviance -0.957280\n",
              "19           120          1  ...  exponential -0.957280\n",
              "12           120          5  ...  exponential -0.957280\n",
              "28            83          1  ...  exponential -0.952248\n",
              "\n",
              "[5 rows x 6 columns]"
            ]
          },
          "metadata": {
            "tags": []
          },
          "execution_count": 11
        }
      ]
    },
    {
      "cell_type": "markdown",
      "metadata": {
        "id": "dj6RFio05s7q"
      },
      "source": [
        "### Random Forest"
      ]
    },
    {
      "cell_type": "code",
      "metadata": {
        "colab": {
          "base_uri": "https://localhost:8080/",
          "height": 1000
        },
        "id": "FyvnsS7K9gTo",
        "outputId": "f90cbcaa-302d-42f4-8fa8-ab093ab16794"
      },
      "source": [
        "# forest_minimize performs Bayesian Optimization \n",
        "# using Random Forests as surrogate\n",
        "\n",
        "fm_ = forest_minimize(\n",
        "    objective, # the objective function to minimize\n",
        "    param_grid, # the hyperparameter space\n",
        "    base_estimator = 'RF', # the surrogate\n",
        "    n_initial_points=10, # the number of points to evaluate f(x) to start of\n",
        "    acq_func='EI', # the acquisition function\n",
        "    n_calls=30, # the number of subsequent evaluations of f(x)\n",
        "    random_state=0, \n",
        "    n_jobs=4,\n",
        ")\n",
        "\n",
        "# function value at the minimum.\n",
        "# note that it is the negative of the accuracy\n",
        "\n",
        "print(\"Best score=%.4f\" % fm_.fun)\n",
        "\n",
        "print(\"\"\"Best parameters:\n",
        "=========================\n",
        "- n_estimators = %d\n",
        "- max-depth = %d\n",
        "- min_samples_split = %.3f\n",
        "- learning_rate = %.3f\n",
        "- loss = %s\"\"\" % (fm_.x[0], \n",
        "                fm_.x[1],\n",
        "                fm_.x[2],\n",
        "                fm_.x[3],\n",
        "                fm_.x[4],\n",
        "               ))\n",
        "\n",
        "plot_convergence(fm_)\n",
        "\n",
        "dim_names = ['n_estimators', 'max_depth', 'min_samples_split', 'learning_rate', 'loss']\n",
        "\n",
        "plot_evaluations(result=fm_, plot_dims=dim_names)\n",
        "plt.show()\n",
        "\n",
        "# all together in one dataframe, so we can investigate further\n",
        "\n",
        "tmp = pd.concat([\n",
        "    pd.DataFrame(fm_.x_iters),\n",
        "    pd.Series(fm_.func_vals),\n",
        "], axis=1)\n",
        "\n",
        "tmp.columns = dim_names + ['accuracy']\n",
        "\n",
        "tmp.sort_values(by='accuracy', ascending=True, inplace=True)\n",
        "\n",
        "tmp.head()"
      ],
      "execution_count": null,
      "outputs": [
        {
          "output_type": "stream",
          "text": [
            "Best score=-0.9498\n",
            "Best parameters:\n",
            "=========================\n",
            "- n_estimators = 68\n",
            "- max-depth = 1\n",
            "- min_samples_split = 0.051\n",
            "- learning_rate = 0.002\n",
            "- loss = exponential\n"
          ],
          "name": "stdout"
        },
        {
          "output_type": "display_data",
          "data": {
            "image/png": "[encoded data removed]",
            "text/plain": [
              "<Figure size 432x288 with 1 Axes>"
            ]
          },
          "metadata": {
            "tags": [],
            "needs_background": "light"
          }
        },
        {
          "output_type": "display_data",
          "data": {
            "image/png": "[encoded data removed]",
            "text/plain": [
              "<Figure size 720x720 with 25 Axes>"
            ]
          },
          "metadata": {
            "tags": [],
            "needs_background": "light"
          }
        },
        {
          "output_type": "execute_result",
          "data": {
            "text/html": [
              "<div>\n",
              "<style scoped>\n",
              "    .dataframe tbody tr th:only-of-type {\n",
              "        vertical-align: middle;\n",
              "    }\n",
              "\n",
              "    .dataframe tbody tr th {\n",
              "        vertical-align: top;\n",
              "    }\n",
              "\n",
              "    .dataframe thead th {\n",
              "        text-align: right;\n",
              "    }\n",
              "</style>\n",
              "<table border=\"1\" class=\"dataframe\">\n",
              "  <thead>\n",
              "    <tr style=\"text-align: right;\">\n",
              "      <th></th>\n",
              "      <th>n_estimators</th>\n",
              "      <th>max_depth</th>\n",
              "      <th>min_samples_split</th>\n",
              "      <th>learning_rate</th>\n",
              "      <th>loss</th>\n",
              "      <th>accuracy</th>\n",
              "    </tr>\n",
              "  </thead>\n",
              "  <tbody>\n",
              "    <tr>\n",
              "      <th>24</th>\n",
              "      <td>29</td>\n",
              "      <td>1</td>\n",
              "      <td>0.095742</td>\n",
              "      <td>0.003541</td>\n",
              "      <td>exponential</td>\n",
              "      <td>-0.949761</td>\n",
              "    </tr>\n",
              "    <tr>\n",
              "      <th>21</th>\n",
              "      <td>37</td>\n",
              "      <td>1</td>\n",
              "      <td>0.088778</td>\n",
              "      <td>0.349843</td>\n",
              "      <td>exponential</td>\n",
              "      <td>-0.949761</td>\n",
              "    </tr>\n",
              "    <tr>\n",
              "      <th>9</th>\n",
              "      <td>68</td>\n",
              "      <td>1</td>\n",
              "      <td>0.050938</td>\n",
              "      <td>0.001985</td>\n",
              "      <td>exponential</td>\n",
              "      <td>-0.949761</td>\n",
              "    </tr>\n",
              "    <tr>\n",
              "      <th>20</th>\n",
              "      <td>38</td>\n",
              "      <td>1</td>\n",
              "      <td>0.097610</td>\n",
              "      <td>0.409173</td>\n",
              "      <td>exponential</td>\n",
              "      <td>-0.944729</td>\n",
              "    </tr>\n",
              "    <tr>\n",
              "      <th>4</th>\n",
              "      <td>79</td>\n",
              "      <td>1</td>\n",
              "      <td>0.086269</td>\n",
              "      <td>0.249533</td>\n",
              "      <td>deviance</td>\n",
              "      <td>-0.944710</td>\n",
              "    </tr>\n",
              "  </tbody>\n",
              "</table>\n",
              "</div>"
            ],
            "text/plain": [
              "    n_estimators  max_depth  ...         loss  accuracy\n",
              "24            29          1  ...  exponential -0.949761\n",
              "21            37          1  ...  exponential -0.949761\n",
              "9             68          1  ...  exponential -0.949761\n",
              "20            38          1  ...  exponential -0.944729\n",
              "4             79          1  ...     deviance -0.944710\n",
              "\n",
              "[5 rows x 6 columns]"
            ]
          },
          "metadata": {
            "tags": []
          },
          "execution_count": 12
        }
      ]
    },
    {
      "cell_type": "markdown",
      "metadata": {
        "id": "GcyE09KY5yQ0"
      },
      "source": [
        "### GBM"
      ]
    },
    {
      "cell_type": "code",
      "metadata": {
        "colab": {
          "base_uri": "https://localhost:8080/",
          "height": 1000
        },
        "id": "lsvGFTdv4fRB",
        "outputId": "f7ecefbd-7678-48d9-d560-f66bd81785a6"
      },
      "source": [
        "# gbrt_minimize performs by Bayesian Optimization \n",
        "# using GBMs as surrogate for f(x)\n",
        "\n",
        "gbm_ = gbrt_minimize(\n",
        "    objective, # the objective function to minimize\n",
        "    param_grid, # the hyperparameter space\n",
        "    n_initial_points=10, # the number of points to evaluate f(x) to start of\n",
        "    acq_func='EI', # the acquisition function\n",
        "    n_calls=30, # the number of subsequent evaluations of f(x)\n",
        "    random_state=0, \n",
        "    n_jobs=4,\n",
        ")\n",
        "\n",
        "# function value at the minimum.\n",
        "# note that it is the negative of the accuracy\n",
        "\n",
        "print(\"Best score=%.4f\" % gbm_.fun)\n",
        "\n",
        "print(\"\"\"Best parameters:\n",
        "=========================\n",
        "- n_estimators = %d\n",
        "- max-depth = %d\n",
        "- min_samples_split = %.3f\n",
        "- learning_rate = %.3f\n",
        "- loss = %s\"\"\" % (gbm_.x[0], \n",
        "                gbm_.x[1],\n",
        "                gbm_.x[2],\n",
        "                gbm_.x[3],\n",
        "                gbm_.x[4],\n",
        "               ))\n",
        "\n",
        "plot_convergence(gbm_)\n",
        "\n",
        "dim_names = ['n_estimators', 'max_depth', 'min_samples_split', 'learning_rate', 'loss']\n",
        "\n",
        "plot_evaluations(result=gbm_, plot_dims=dim_names)\n",
        "plt.show()\n",
        "\n",
        "# all together in one dataframe, so we can investigate further\n",
        "\n",
        "tmp = pd.concat([\n",
        "    pd.DataFrame(gbm_.x_iters),\n",
        "    pd.Series(gbm_.func_vals),\n",
        "], axis=1)\n",
        "\n",
        "tmp.columns = dim_names + ['accuracy']\n",
        "\n",
        "tmp.sort_values(by='accuracy', ascending=True, inplace=True)\n",
        "\n",
        "tmp.head()"
      ],
      "execution_count": null,
      "outputs": [
        {
          "output_type": "stream",
          "text": [
            "Best score=-0.9498\n",
            "Best parameters:\n",
            "=========================\n",
            "- n_estimators = 68\n",
            "- max-depth = 1\n",
            "- min_samples_split = 0.051\n",
            "- learning_rate = 0.002\n",
            "- loss = exponential\n"
          ],
          "name": "stdout"
        },
        {
          "output_type": "display_data",
          "data": {
            "image/png": "[encoded data removed]",
            "text/plain": [
              "<Figure size 432x288 with 1 Axes>"
            ]
          },
          "metadata": {
            "tags": [],
            "needs_background": "light"
          }
        },
        {
          "output_type": "display_data",
          "data": {
            "image/png": "[encoded data removed]",
            "text/plain": [
              "<Figure size 720x720 with 25 Axes>"
            ]
          },
          "metadata": {
            "tags": [],
            "needs_background": "light"
          }
        },
        {
          "output_type": "execute_result",
          "data": {
            "text/html": [
              "<div>\n",
              "<style scoped>\n",
              "    .dataframe tbody tr th:only-of-type {\n",
              "        vertical-align: middle;\n",
              "    }\n",
              "\n",
              "    .dataframe tbody tr th {\n",
              "        vertical-align: top;\n",
              "    }\n",
              "\n",
              "    .dataframe thead th {\n",
              "        text-align: right;\n",
              "    }\n",
              "</style>\n",
              "<table border=\"1\" class=\"dataframe\">\n",
              "  <thead>\n",
              "    <tr style=\"text-align: right;\">\n",
              "      <th></th>\n",
              "      <th>n_estimators</th>\n",
              "      <th>max_depth</th>\n",
              "      <th>min_samples_split</th>\n",
              "      <th>learning_rate</th>\n",
              "      <th>loss</th>\n",
              "      <th>accuracy</th>\n",
              "    </tr>\n",
              "  </thead>\n",
              "  <tbody>\n",
              "    <tr>\n",
              "      <th>9</th>\n",
              "      <td>68</td>\n",
              "      <td>1</td>\n",
              "      <td>0.050938</td>\n",
              "      <td>0.001985</td>\n",
              "      <td>exponential</td>\n",
              "      <td>-0.949761</td>\n",
              "    </tr>\n",
              "    <tr>\n",
              "      <th>24</th>\n",
              "      <td>71</td>\n",
              "      <td>1</td>\n",
              "      <td>0.051016</td>\n",
              "      <td>0.088779</td>\n",
              "      <td>deviance</td>\n",
              "      <td>-0.947254</td>\n",
              "    </tr>\n",
              "    <tr>\n",
              "      <th>23</th>\n",
              "      <td>67</td>\n",
              "      <td>1</td>\n",
              "      <td>0.050914</td>\n",
              "      <td>0.005125</td>\n",
              "      <td>deviance</td>\n",
              "      <td>-0.947254</td>\n",
              "    </tr>\n",
              "    <tr>\n",
              "      <th>22</th>\n",
              "      <td>68</td>\n",
              "      <td>1</td>\n",
              "      <td>0.044151</td>\n",
              "      <td>0.179335</td>\n",
              "      <td>deviance</td>\n",
              "      <td>-0.947254</td>\n",
              "    </tr>\n",
              "    <tr>\n",
              "      <th>18</th>\n",
              "      <td>102</td>\n",
              "      <td>1</td>\n",
              "      <td>0.026821</td>\n",
              "      <td>0.001965</td>\n",
              "      <td>exponential</td>\n",
              "      <td>-0.947254</td>\n",
              "    </tr>\n",
              "  </tbody>\n",
              "</table>\n",
              "</div>"
            ],
            "text/plain": [
              "    n_estimators  max_depth  ...         loss  accuracy\n",
              "9             68          1  ...  exponential -0.949761\n",
              "24            71          1  ...     deviance -0.947254\n",
              "23            67          1  ...     deviance -0.947254\n",
              "22            68          1  ...     deviance -0.947254\n",
              "18           102          1  ...  exponential -0.947254\n",
              "\n",
              "[5 rows x 6 columns]"
            ]
          },
          "metadata": {
            "tags": []
          },
          "execution_count": 13
        }
      ]
    },
    {
      "cell_type": "markdown",
      "metadata": {
        "id": "ui4f74U734wy"
      },
      "source": [
        "## Hyperopt"
      ]
    },
    {
      "cell_type": "code",
      "metadata": {
        "id": "p0JcyvNfFOnK"
      },
      "source": [
        "from sklearn.datasets import load_breast_cancer\n",
        "from sklearn.metrics import accuracy_score, roc_auc_score\n",
        "from sklearn.model_selection import cross_val_score, train_test_split\n",
        "\n",
        "import xgboost as xgb\n",
        "\n",
        "# hp: define the hyperparameter space\n",
        "# fmin: optimization function\n",
        "# Trials: to evaluate the different searched hyperparameters\n",
        "from hyperopt import hp, fmin\n",
        "\n",
        "# the search algorithms\n",
        "from hyperopt import rand, anneal, tpe\n",
        "\n",
        "# load dataset\n",
        "\n",
        "breast_cancer_X, breast_cancer_y = load_breast_cancer(return_X_y=True)\n",
        "X = pd.DataFrame(breast_cancer_X)\n",
        "y = pd.Series(breast_cancer_y).map({0:1, 1:0})\n",
        "\n",
        "X.head()\n",
        "\n",
        "# determine the hyperparameter space\n",
        "\n",
        "param_grid = {\n",
        "    'n_estimators': hp.quniform('n_estimators', 200, 2500, 100),\n",
        "    'max_depth': hp.quniform('max_depth', 1, 10, 1),\n",
        "    'learning_rate': hp.loguniform('learning_rate', np.log(0.001), np.log(1)),\n",
        "    'booster': hp.choice('booster', ['gbtree', 'dart']),\n",
        "    'gamma': hp.loguniform('gamma', np.log(0.01), np.log(10)),\n",
        "    'subsample': hp.uniform('subsample', 0.50, 0.90),\n",
        "    'colsample_bytree': hp.uniform('colsample_bytree', 0.50, 0.99),\n",
        "    'colsample_bylevel': hp.uniform('colsample_bylevel', 0.50, 0.99),\n",
        "    'colsample_bynode': hp.uniform('colsample_bynode', 0.50, 0.99),\n",
        "    'reg_lambda': hp.uniform('reg_lambda', 1, 20)\n",
        "}\n",
        "\n",
        "# the objective function takes the hyperparameter space\n",
        "# as input\n",
        "\n",
        "def objective(params):\n",
        "\n",
        "    # we need a dictionary to indicate which value from the space\n",
        "    # to attribute to each value of the hyperparameter in the xgb\n",
        "    params_dict = {\n",
        "        # important int, as it takes integers only\n",
        "        'n_estimators': int(params['n_estimators']),\n",
        "        # important int, as it takes integers only\n",
        "        'max_depth': int(params['max_depth']),\n",
        "        'learning_rate': params['learning_rate'],\n",
        "        'booster': params['booster'],\n",
        "        'gamma': params['gamma'],\n",
        "        'subsample': params['subsample'],\n",
        "        'colsample_bytree': params['colsample_bytree'],\n",
        "        'colsample_bylevel': params['colsample_bylevel'],\n",
        "        'colsample_bynode': params['colsample_bynode'],\n",
        "        'random_state': 1000,\n",
        "    }\n",
        "\n",
        "    # with ** we pass the items in the dictionary as parameters\n",
        "    # to the xgb\n",
        "    gbm = xgb.XGBClassifier(**params_dict)\n",
        "\n",
        "    # train with cv\n",
        "    score = cross_val_score(gbm, X_train, y_train,\n",
        "                            scoring='accuracy', cv=3, n_jobs=4).mean()\n",
        "\n",
        "    # to minimize, we negate the score\n",
        "    return -score"
      ],
      "execution_count": null,
      "outputs": []
    },
    {
      "cell_type": "markdown",
      "metadata": {
        "id": "ELDpdTf7FfB5"
      },
      "source": [
        "### Search"
      ]
    },
    {
      "cell_type": "code",
      "metadata": {
        "colab": {
          "base_uri": "https://localhost:8080/"
        },
        "id": "r4c34sdwFhEY",
        "outputId": "6c71074e-65c1-4a06-fc09-3a5576f7d619"
      },
      "source": [
        "# fmin performs the minimization\n",
        "# rand.suggest samples the parameters at random\n",
        "# i.e., performs the random search\n",
        "\n",
        "random_search = fmin(\n",
        "    fn=objective,\n",
        "    space=param_grid,\n",
        "    max_evals=50,\n",
        "    rstate=np.random.RandomState(42),\n",
        "    algo=rand.suggest,  # randomized search\n",
        ")\n",
        "\n",
        "# create another dictionary to pass the search items as parameters\n",
        "# to a new xgb\n",
        "\n",
        "def create_param_grid(search, booster):\n",
        "    best_hp_dict = {\n",
        "            'n_estimators': int(search['n_estimators']), # important int, as it takes integers only\n",
        "            'max_depth': int(search['max_depth']), # important int, as it takes integers only\n",
        "            'learning_rate': search['learning_rate'],\n",
        "            'booster': booster,\n",
        "            'gamma': search['gamma'],\n",
        "            'subsample': search['subsample'],\n",
        "            'colsample_bytree': search['colsample_bytree'],\n",
        "            'colsample_bylevel': search['colsample_bylevel'],\n",
        "            'colsample_bynode': search['colsample_bynode'],\n",
        "            'random_state': 1000,\n",
        "    }\n",
        "    return best_hp_dict\n",
        "\n",
        "# after the search we can train the model with the\n",
        "# best parameters manually\n",
        "\n",
        "best_params = create_param_grid(random_search, 'gbtree')\n",
        "\n",
        "gbm_rand = xgb.XGBClassifier(**best_params)\n",
        "\n",
        "gbm_rand.fit(X_train, y_train)\n",
        "\n",
        "X_train_preds = gbm_rand.predict_proba(X_train)[:,1]\n",
        "X_test_preds = gbm_rand.predict_proba(X_test)[:,1]\n",
        "\n",
        "print()\n",
        "print('Train roc_auc: ', roc_auc_score(y_train, X_train_preds))\n",
        "print('Test roc_auc: ', roc_auc_score(y_test, X_test_preds))\n",
        "\n",
        "\n",
        "# fmin performs the minimization\n",
        "# anneal.suggest samples the parameters\n",
        "\n",
        "anneal_search = fmin(\n",
        "    fn=objective,\n",
        "    space=param_grid,\n",
        "    max_evals=50,\n",
        "    rstate=np.random.RandomState(42),\n",
        "    algo=anneal.suggest,  # annealing search\n",
        ")\n",
        "\n",
        "anneal_search\n",
        "\n",
        "# after the search we can train the model with the\n",
        "# best parameters manually\n",
        "\n",
        "best_params = create_param_grid(anneal_search, 'gbtree')\n",
        "\n",
        "gbm_anneal = xgb.XGBClassifier(**best_params)\n",
        "\n",
        "gbm_anneal.fit(X_train, y_train)\n",
        "\n",
        "X_train_preds = gbm_anneal.predict_proba(X_train)[:,1]\n",
        "X_test_preds = gbm_anneal.predict_proba(X_test)[:,1]\n",
        "\n",
        "print()\n",
        "print('Train roc_auc: ', roc_auc_score(y_train, X_train_preds))\n",
        "print('Test roc_auc: ', roc_auc_score(y_test, X_test_preds))\n",
        "\n",
        "# fmin performs the minimization\n",
        "# tpe.suggest samples the parameters\n",
        "\n",
        "tpe_search = fmin(\n",
        "    fn=objective,\n",
        "    space=param_grid,\n",
        "    max_evals=50,\n",
        "    rstate=np.random.RandomState(42),\n",
        "    algo=tpe.suggest,  # tpe\n",
        ")\n",
        "\n",
        "tpe_search\n",
        "\n",
        "# after the search we can train the model with the\n",
        "# best parameters manually\n",
        "\n",
        "best_hp_dict = create_param_grid(tpe_search, 'gbtree')\n",
        "\n",
        "gbm_final = xgb.XGBClassifier(**best_hp_dict)\n",
        "\n",
        "gbm_final.fit(X_train, y_train)\n",
        "\n",
        "X_train_preds = gbm_final.predict_proba(X_train)[:,1]\n",
        "X_test_preds = gbm_final.predict_proba(X_test)[:,1]\n",
        "\n",
        "print()\n",
        "print('Train roc_auc: ', roc_auc_score(y_train, X_train_preds))\n",
        "print('Test roc_auc: ', roc_auc_score(y_test, X_test_preds))"
      ],
      "execution_count": null,
      "outputs": [
        {
          "output_type": "stream",
          "text": [
            "100%|██████████| 50/50 [05:56<00:00,  7.13s/it, best loss: -0.9698488645857067]\n",
            "\n",
            "Train roc_auc:  1.0\n",
            "Test roc_auc:  0.9991181657848325\n",
            "100%|██████████| 50/50 [04:04<00:00,  4.89s/it, best loss: -0.969905825168983]\n",
            "\n",
            "Train roc_auc:  1.0\n",
            "Test roc_auc:  0.9982363315696648\n",
            "100%|██████████| 50/50 [04:01<00:00,  4.84s/it, best loss: -0.9698868383078909]\n",
            "\n",
            "Train roc_auc:  1.0\n",
            "Test roc_auc:  0.9989711934156378\n"
          ],
          "name": "stdout"
        }
      ]
    },
    {
      "cell_type": "markdown",
      "metadata": {
        "id": "tqK21g1PF-Ji"
      },
      "source": [
        "### Conditional Search Multiple Models"
      ]
    },
    {
      "cell_type": "code",
      "metadata": {
        "colab": {
          "base_uri": "https://localhost:8080/",
          "height": 1000
        },
        "id": "lj1R-YcZGBj8",
        "outputId": "d52d12c2-c906-436d-a27d-0ae4866bd941"
      },
      "source": [
        "from sklearn.datasets import load_breast_cancer\n",
        "from sklearn.metrics import accuracy_score, roc_auc_score\n",
        "from sklearn.model_selection import cross_val_score, train_test_split\n",
        "\n",
        "from sklearn.linear_model import LogisticRegression\n",
        "from sklearn.ensemble import RandomForestClassifier, GradientBoostingClassifier\n",
        "\n",
        "# hp: define the hyperparameter space\n",
        "# fmin: optimization function\n",
        "# Trials: to evaluate the different searched hyperparameters\n",
        "from hyperopt import hp, fmin, Trials\n",
        "\n",
        "# the search algorithms\n",
        "from hyperopt import anneal\n",
        "\n",
        "# load dataset\n",
        "\n",
        "breast_cancer_X, breast_cancer_y = load_breast_cancer(return_X_y=True)\n",
        "X = pd.DataFrame(breast_cancer_X)\n",
        "y = pd.Series(breast_cancer_y).map({0:1, 1:0})\n",
        "\n",
        "X.head()\n",
        "\n",
        "# ==================================\n",
        "# determine the hyperparameter space\n",
        "# ==================================\n",
        "\n",
        "# we create dictionaries with 2 keys: \"model\" and \"params\"\n",
        "# in \"model\" we specify the algorithm, in \"params\", we pass\n",
        "# a dictionary with the space for that particular algorithm\n",
        "\n",
        "# important: pass the model as class and not\n",
        "# instantiated, thus LogisticRegression istead of\n",
        "# LogisticRegression()\n",
        "\n",
        "# within the params dictionaries, the keys should be\n",
        "# the parameter names of the algos, as per their \n",
        "# documentation\n",
        "\n",
        "# within the hp in each dictionary, give different names to\n",
        "# later on identify to which model was the hyperparameter assigned\n",
        "# see for example n_estimators_rf and n_estimators_gbm later\n",
        "\n",
        "\n",
        "# the nested space\n",
        "param_grid = hp.choice('classifier', [\n",
        "    \n",
        "    # algo 1\n",
        "    {'model': LogisticRegression,\n",
        "    'params': {\n",
        "        'penalty': hp.choice('penalty', ['l1','l2']),\n",
        "        'C' : hp.uniform('C', 0.001, 10),\n",
        "        'solver': 'saga', # the only solver that works with both penalties\n",
        "    }},\n",
        "    \n",
        "    # algo 2\n",
        "    {'model': RandomForestClassifier,\n",
        "    'params': {\n",
        "        'n_estimators': hp.quniform('n_estimators_rf', 50, 1500, 50),\n",
        "        'max_depth': hp.quniform('max_depth_rf', 1, 5, 1),\n",
        "        'criterion': hp.choice('criterion_rf', ['gini', 'entropy']),\n",
        "    }},\n",
        "    \n",
        "    # algo 3\n",
        "    {'model': GradientBoostingClassifier,\n",
        "    'params': {\n",
        "        'n_estimators': hp.quniform('n_estimators_gbm', 50, 1500, 50),\n",
        "        'max_depth': hp.quniform('max_depth_gbm', 1, 5, 1),\n",
        "        'criterion': hp.choice('criterion_gbm', ['friedman_mse', 'mse']),\n",
        "    }},\n",
        "])\n",
        "\n",
        "def objective(params):\n",
        "    \n",
        "    # instantiate the model\n",
        "    model = params['model']() # don't forget the () to instantiate the class\n",
        "    \n",
        "    # capture the sampled hyperparameters\n",
        "    hyperparams = params['params']\n",
        "        \n",
        "    try:        \n",
        "        # for tree based algorithms\n",
        "        hyperparams['n_estimators'] = int(hyperparams['n_estimators'])\n",
        "        hyperparams['max_depth'] = int(hyperparams['max_depth'])\n",
        "    except:\n",
        "        pass        \n",
        "        \n",
        "    # in case you want to visualize what is being sampled:\n",
        "    print(model, hyperparams)\n",
        "\n",
        "    # pass the parameters to the model\n",
        "    model.set_params(**hyperparams)\n",
        "\n",
        "    # train with cv\n",
        "    cross_val_data = cross_val_score(\n",
        "        model,\n",
        "        X_train,\n",
        "        y_train,\n",
        "        scoring='accuracy',\n",
        "        cv=3,\n",
        "        n_jobs=4,\n",
        "    )\n",
        "\n",
        "    # to minimize, we negate the score\n",
        "    loss = -cross_val_data.mean()\n",
        "    print(loss)\n",
        "    print()\n",
        "    \n",
        "    return loss\n",
        "\n",
        "# fmin performs the minimization\n",
        "# anneal.suggest samples the parameters\n",
        "\n",
        "trials = Trials()\n",
        "\n",
        "anneal_search = fmin(\n",
        "    fn=objective,\n",
        "    space=param_grid,\n",
        "    max_evals=50,\n",
        "    rstate=np.random.RandomState(42),\n",
        "    algo=anneal.suggest,  # annealing search\n",
        "    trials=trials\n",
        ")\n",
        "\n",
        "print(anneal_search)\n",
        "print(trials.argmin)\n",
        "print(trials.average_best_error())\n",
        "print(trials.best_trial)\n",
        "# convergence\n",
        "\n",
        "pd.Series(trials.losses()).sort_values(ascending=False).reset_index(drop=True).plot()"
      ],
      "execution_count": null,
      "outputs": [
        {
          "output_type": "stream",
          "text": [
            "RandomForestClassifier(bootstrap=True, ccp_alpha=0.0, class_weight=None,\n",
            "                       criterion='gini', max_depth=None, max_features='auto',\n",
            "                       max_leaf_nodes=None, max_samples=None,\n",
            "                       min_impurity_decrease=0.0, min_impurity_split=None,\n",
            "                       min_samples_leaf=1, min_samples_split=2,\n",
            "                       min_weight_fraction_leaf=0.0, n_estimators=100,\n",
            "                       n_jobs=None, oob_score=False, random_state=None,\n",
            "                       verbose=0, warm_start=False)\n",
            "{'criterion': 'entropy', 'max_depth': 1, 'n_estimators': 1250}\n",
            "-0.9171223513328776\n",
            "RandomForestClassifier(bootstrap=True, ccp_alpha=0.0, class_weight=None,\n",
            "                       criterion='gini', max_depth=None, max_features='auto',\n",
            "                       max_leaf_nodes=None, max_samples=None,\n",
            "                       min_impurity_decrease=0.0, min_impurity_split=None,\n",
            "                       min_samples_leaf=1, min_samples_split=2,\n",
            "                       min_weight_fraction_leaf=0.0, n_estimators=100,\n",
            "                       n_jobs=None, oob_score=False, random_state=None,\n",
            "                       verbose=0, warm_start=False)\n",
            "{'criterion': 'gini', 'max_depth': 5, 'n_estimators': 250}\n",
            "-0.9472544998860788\n",
            "RandomForestClassifier(bootstrap=True, ccp_alpha=0.0, class_weight=None,\n",
            "                       criterion='gini', max_depth=None, max_features='auto',\n",
            "                       max_leaf_nodes=None, max_samples=None,\n",
            "                       min_impurity_decrease=0.0, min_impurity_split=None,\n",
            "                       min_samples_leaf=1, min_samples_split=2,\n",
            "                       min_weight_fraction_leaf=0.0, n_estimators=100,\n",
            "                       n_jobs=None, oob_score=False, random_state=None,\n",
            "                       verbose=0, warm_start=False)\n",
            "{'criterion': 'entropy', 'max_depth': 2, 'n_estimators': 750}\n",
            "-0.9397357028935976\n",
            "LogisticRegression(C=1.0, class_weight=None, dual=False, fit_intercept=True,\n",
            "                   intercept_scaling=1, l1_ratio=None, max_iter=100,\n",
            "                   multi_class='auto', n_jobs=None, penalty='l2',\n",
            "                   random_state=None, solver='lbfgs', tol=0.0001, verbose=0,\n",
            "                   warm_start=False)\n",
            "{'C': 2.6874248381351316, 'penalty': 'l1', 'solver': 'saga'}\n",
            "-0.9120148856990963\n",
            "RandomForestClassifier(bootstrap=True, ccp_alpha=0.0, class_weight=None,\n",
            "                       criterion='gini', max_depth=None, max_features='auto',\n",
            "                       max_leaf_nodes=None, max_samples=None,\n",
            "                       min_impurity_decrease=0.0, min_impurity_split=None,\n",
            "                       min_samples_leaf=1, min_samples_split=2,\n",
            "                       min_weight_fraction_leaf=0.0, n_estimators=100,\n",
            "                       n_jobs=None, oob_score=False, random_state=None,\n",
            "                       verbose=0, warm_start=False)\n",
            "{'criterion': 'gini', 'max_depth': 3, 'n_estimators': 400}\n",
            "-0.942241968557758\n",
            "RandomForestClassifier(bootstrap=True, ccp_alpha=0.0, class_weight=None,\n",
            "                       criterion='gini', max_depth=None, max_features='auto',\n",
            "                       max_leaf_nodes=None, max_samples=None,\n",
            "                       min_impurity_decrease=0.0, min_impurity_split=None,\n",
            "                       min_samples_leaf=1, min_samples_split=2,\n",
            "                       min_weight_fraction_leaf=0.0, n_estimators=100,\n",
            "                       n_jobs=None, oob_score=False, random_state=None,\n",
            "                       verbose=0, warm_start=False)\n",
            "{'criterion': 'entropy', 'max_depth': 3, 'n_estimators': 600}\n",
            "-0.942241968557758\n",
            "RandomForestClassifier(bootstrap=True, ccp_alpha=0.0, class_weight=None,\n",
            "                       criterion='gini', max_depth=None, max_features='auto',\n",
            "                       max_leaf_nodes=None, max_samples=None,\n",
            "                       min_impurity_decrease=0.0, min_impurity_split=None,\n",
            "                       min_samples_leaf=1, min_samples_split=2,\n",
            "                       min_weight_fraction_leaf=0.0, n_estimators=100,\n",
            "                       n_jobs=None, oob_score=False, random_state=None,\n",
            "                       verbose=0, warm_start=False)\n",
            "{'criterion': 'gini', 'max_depth': 4, 'n_estimators': 1000}\n",
            "-0.9472544998860788\n",
            "LogisticRegression(C=1.0, class_weight=None, dual=False, fit_intercept=True,\n",
            "                   intercept_scaling=1, l1_ratio=None, max_iter=100,\n",
            "                   multi_class='auto', n_jobs=None, penalty='l2',\n",
            "                   random_state=None, solver='lbfgs', tol=0.0001, verbose=0,\n",
            "                   warm_start=False)\n",
            "{'C': 3.3166349629202334, 'penalty': 'l1', 'solver': 'saga'}\n",
            "-0.9120148856990963\n",
            "RandomForestClassifier(bootstrap=True, ccp_alpha=0.0, class_weight=None,\n",
            "                       criterion='gini', max_depth=None, max_features='auto',\n",
            "                       max_leaf_nodes=None, max_samples=None,\n",
            "                       min_impurity_decrease=0.0, min_impurity_split=None,\n",
            "                       min_samples_leaf=1, min_samples_split=2,\n",
            "                       min_weight_fraction_leaf=0.0, n_estimators=100,\n",
            "                       n_jobs=None, oob_score=False, random_state=None,\n",
            "                       verbose=0, warm_start=False)\n",
            "{'criterion': 'gini', 'max_depth': 3, 'n_estimators': 1050}\n",
            "-0.9397357028935976\n",
            "GradientBoostingClassifier(ccp_alpha=0.0, criterion='friedman_mse', init=None,\n",
            "                           learning_rate=0.1, loss='deviance', max_depth=3,\n",
            "                           max_features=None, max_leaf_nodes=None,\n",
            "                           min_impurity_decrease=0.0, min_impurity_split=None,\n",
            "                           min_samples_leaf=1, min_samples_split=2,\n",
            "                           min_weight_fraction_leaf=0.0, n_estimators=100,\n",
            "                           n_iter_no_change=None, presort='deprecated',\n",
            "                           random_state=None, subsample=1.0, tol=0.0001,\n",
            "                           validation_fraction=0.1, verbose=0,\n",
            "                           warm_start=False)\n",
            "{'criterion': 'mse', 'max_depth': 3, 'n_estimators': 550}\n",
            "-0.9497607655502392\n",
            "RandomForestClassifier(bootstrap=True, ccp_alpha=0.0, class_weight=None,\n",
            "                       criterion='gini', max_depth=None, max_features='auto',\n",
            "                       max_leaf_nodes=None, max_samples=None,\n",
            "                       min_impurity_decrease=0.0, min_impurity_split=None,\n",
            "                       min_samples_leaf=1, min_samples_split=2,\n",
            "                       min_weight_fraction_leaf=0.0, n_estimators=100,\n",
            "                       n_jobs=None, oob_score=False, random_state=None,\n",
            "                       verbose=0, warm_start=False)\n",
            "{'criterion': 'gini', 'max_depth': 4, 'n_estimators': 1300}\n",
            "-0.942241968557758\n",
            "RandomForestClassifier(bootstrap=True, ccp_alpha=0.0, class_weight=None,\n",
            "                       criterion='gini', max_depth=None, max_features='auto',\n",
            "                       max_leaf_nodes=None, max_samples=None,\n",
            "                       min_impurity_decrease=0.0, min_impurity_split=None,\n",
            "                       min_samples_leaf=1, min_samples_split=2,\n",
            "                       min_weight_fraction_leaf=0.0, n_estimators=100,\n",
            "                       n_jobs=None, oob_score=False, random_state=None,\n",
            "                       verbose=0, warm_start=False)\n",
            "{'criterion': 'gini', 'max_depth': 4, 'n_estimators': 300}\n",
            "-0.9447482342219184\n",
            "GradientBoostingClassifier(ccp_alpha=0.0, criterion='friedman_mse', init=None,\n",
            "                           learning_rate=0.1, loss='deviance', max_depth=3,\n",
            "                           max_features=None, max_leaf_nodes=None,\n",
            "                           min_impurity_decrease=0.0, min_impurity_split=None,\n",
            "                           min_samples_leaf=1, min_samples_split=2,\n",
            "                           min_weight_fraction_leaf=0.0, n_estimators=100,\n",
            "                           n_iter_no_change=None, presort='deprecated',\n",
            "                           random_state=None, subsample=1.0, tol=0.0001,\n",
            "                           validation_fraction=0.1, verbose=0,\n",
            "                           warm_start=False)\n",
            "{'criterion': 'friedman_mse', 'max_depth': 3, 'n_estimators': 200}\n",
            "-0.9497797524113313\n",
            "GradientBoostingClassifier(ccp_alpha=0.0, criterion='friedman_mse', init=None,\n",
            "                           learning_rate=0.1, loss='deviance', max_depth=3,\n",
            "                           max_features=None, max_leaf_nodes=None,\n",
            "                           min_impurity_decrease=0.0, min_impurity_split=None,\n",
            "                           min_samples_leaf=1, min_samples_split=2,\n",
            "                           min_weight_fraction_leaf=0.0, n_estimators=100,\n",
            "                           n_iter_no_change=None, presort='deprecated',\n",
            "                           random_state=None, subsample=1.0, tol=0.0001,\n",
            "                           validation_fraction=0.1, verbose=0,\n",
            "                           warm_start=False)\n",
            "{'criterion': 'mse', 'max_depth': 1, 'n_estimators': 300}\n",
            "-0.9647983595352017\n",
            "GradientBoostingClassifier(ccp_alpha=0.0, criterion='friedman_mse', init=None,\n",
            "                           learning_rate=0.1, loss='deviance', max_depth=3,\n",
            "                           max_features=None, max_leaf_nodes=None,\n",
            "                           min_impurity_decrease=0.0, min_impurity_split=None,\n",
            "                           min_samples_leaf=1, min_samples_split=2,\n",
            "                           min_weight_fraction_leaf=0.0, n_estimators=100,\n",
            "                           n_iter_no_change=None, presort='deprecated',\n",
            "                           random_state=None, subsample=1.0, tol=0.0001,\n",
            "                           validation_fraction=0.1, verbose=0,\n",
            "                           warm_start=False)\n",
            "{'criterion': 'mse', 'max_depth': 3, 'n_estimators': 750}\n",
            "-0.9548112706007443\n",
            "GradientBoostingClassifier(ccp_alpha=0.0, criterion='friedman_mse', init=None,\n",
            "                           learning_rate=0.1, loss='deviance', max_depth=3,\n",
            "                           max_features=None, max_leaf_nodes=None,\n",
            "                           min_impurity_decrease=0.0, min_impurity_split=None,\n",
            "                           min_samples_leaf=1, min_samples_split=2,\n",
            "                           min_weight_fraction_leaf=0.0, n_estimators=100,\n",
            "                           n_iter_no_change=None, presort='deprecated',\n",
            "                           random_state=None, subsample=1.0, tol=0.0001,\n",
            "                           validation_fraction=0.1, verbose=0,\n",
            "                           warm_start=False)\n",
            "{'criterion': 'friedman_mse', 'max_depth': 1, 'n_estimators': 400}\n",
            "-0.9648173463962938\n",
            "GradientBoostingClassifier(ccp_alpha=0.0, criterion='friedman_mse', init=None,\n",
            "                           learning_rate=0.1, loss='deviance', max_depth=3,\n",
            "                           max_features=None, max_leaf_nodes=None,\n",
            "                           min_impurity_decrease=0.0, min_impurity_split=None,\n",
            "                           min_samples_leaf=1, min_samples_split=2,\n",
            "                           min_weight_fraction_leaf=0.0, n_estimators=100,\n",
            "                           n_iter_no_change=None, presort='deprecated',\n",
            "                           random_state=None, subsample=1.0, tol=0.0001,\n",
            "                           validation_fraction=0.1, verbose=0,\n",
            "                           warm_start=False)\n",
            "{'criterion': 'friedman_mse', 'max_depth': 1, 'n_estimators': 800}\n",
            "-0.9723551302498671\n",
            "GradientBoostingClassifier(ccp_alpha=0.0, criterion='friedman_mse', init=None,\n",
            "                           learning_rate=0.1, loss='deviance', max_depth=3,\n",
            "                           max_features=None, max_leaf_nodes=None,\n",
            "                           min_impurity_decrease=0.0, min_impurity_split=None,\n",
            "                           min_samples_leaf=1, min_samples_split=2,\n",
            "                           min_weight_fraction_leaf=0.0, n_estimators=100,\n",
            "                           n_iter_no_change=None, presort='deprecated',\n",
            "                           random_state=None, subsample=1.0, tol=0.0001,\n",
            "                           validation_fraction=0.1, verbose=0,\n",
            "                           warm_start=False)\n",
            "{'criterion': 'mse', 'max_depth': 3, 'n_estimators': 900}\n",
            "-0.9547922837396522\n",
            "GradientBoostingClassifier(ccp_alpha=0.0, criterion='friedman_mse', init=None,\n",
            "                           learning_rate=0.1, loss='deviance', max_depth=3,\n",
            "                           max_features=None, max_leaf_nodes=None,\n",
            "                           min_impurity_decrease=0.0, min_impurity_split=None,\n",
            "                           min_samples_leaf=1, min_samples_split=2,\n",
            "                           min_weight_fraction_leaf=0.0, n_estimators=100,\n",
            "                           n_iter_no_change=None, presort='deprecated',\n",
            "                           random_state=None, subsample=1.0, tol=0.0001,\n",
            "                           validation_fraction=0.1, verbose=0,\n",
            "                           warm_start=False)\n",
            "{'criterion': 'friedman_mse', 'max_depth': 3, 'n_estimators': 800}\n",
            "-0.9573175362649047\n",
            "GradientBoostingClassifier(ccp_alpha=0.0, criterion='friedman_mse', init=None,\n",
            "                           learning_rate=0.1, loss='deviance', max_depth=3,\n",
            "                           max_features=None, max_leaf_nodes=None,\n",
            "                           min_impurity_decrease=0.0, min_impurity_split=None,\n",
            "                           min_samples_leaf=1, min_samples_split=2,\n",
            "                           min_weight_fraction_leaf=0.0, n_estimators=100,\n",
            "                           n_iter_no_change=None, presort='deprecated',\n",
            "                           random_state=None, subsample=1.0, tol=0.0001,\n",
            "                           validation_fraction=0.1, verbose=0,\n",
            "                           warm_start=False)\n",
            "{'criterion': 'friedman_mse', 'max_depth': 1, 'n_estimators': 1000}\n",
            "-0.9698298777246146\n",
            "GradientBoostingClassifier(ccp_alpha=0.0, criterion='friedman_mse', init=None,\n",
            "                           learning_rate=0.1, loss='deviance', max_depth=3,\n",
            "                           max_features=None, max_leaf_nodes=None,\n",
            "                           min_impurity_decrease=0.0, min_impurity_split=None,\n",
            "                           min_samples_leaf=1, min_samples_split=2,\n",
            "                           min_weight_fraction_leaf=0.0, n_estimators=100,\n",
            "                           n_iter_no_change=None, presort='deprecated',\n",
            "                           random_state=None, subsample=1.0, tol=0.0001,\n",
            "                           validation_fraction=0.1, verbose=0,\n",
            "                           warm_start=False)\n",
            "{'criterion': 'friedman_mse', 'max_depth': 2, 'n_estimators': 550}\n",
            "-0.9522860180754917\n",
            "LogisticRegression(C=1.0, class_weight=None, dual=False, fit_intercept=True,\n",
            "                   intercept_scaling=1, l1_ratio=None, max_iter=100,\n",
            "                   multi_class='auto', n_jobs=None, penalty='l2',\n",
            "                   random_state=None, solver='lbfgs', tol=0.0001, verbose=0,\n",
            "                   warm_start=False)\n",
            "{'C': 7.239147733028732, 'penalty': 'l1', 'solver': 'saga'}\n",
            "-0.9120148856990963\n",
            "GradientBoostingClassifier(ccp_alpha=0.0, criterion='friedman_mse', init=None,\n",
            "                           learning_rate=0.1, loss='deviance', max_depth=3,\n",
            "                           max_features=None, max_leaf_nodes=None,\n",
            "                           min_impurity_decrease=0.0, min_impurity_split=None,\n",
            "                           min_samples_leaf=1, min_samples_split=2,\n",
            "                           min_weight_fraction_leaf=0.0, n_estimators=100,\n",
            "                           n_iter_no_change=None, presort='deprecated',\n",
            "                           random_state=None, subsample=1.0, tol=0.0001,\n",
            "                           validation_fraction=0.1, verbose=0,\n",
            "                           warm_start=False)\n",
            "{'criterion': 'mse', 'max_depth': 2, 'n_estimators': 950}\n",
            "-0.9547922837396522\n",
            "LogisticRegression(C=1.0, class_weight=None, dual=False, fit_intercept=True,\n",
            "                   intercept_scaling=1, l1_ratio=None, max_iter=100,\n",
            "                   multi_class='auto', n_jobs=None, penalty='l2',\n",
            "                   random_state=None, solver='lbfgs', tol=0.0001, verbose=0,\n",
            "                   warm_start=False)\n",
            "{'C': 6.052414940734376, 'penalty': 'l1', 'solver': 'saga'}\n",
            "-0.9120148856990963\n",
            "LogisticRegression(C=1.0, class_weight=None, dual=False, fit_intercept=True,\n",
            "                   intercept_scaling=1, l1_ratio=None, max_iter=100,\n",
            "                   multi_class='auto', n_jobs=None, penalty='l2',\n",
            "                   random_state=None, solver='lbfgs', tol=0.0001, verbose=0,\n",
            "                   warm_start=False)\n",
            "{'C': 4.318048419965579, 'penalty': 'l2', 'solver': 'saga'}\n",
            "-0.9120148856990963\n",
            "GradientBoostingClassifier(ccp_alpha=0.0, criterion='friedman_mse', init=None,\n",
            "                           learning_rate=0.1, loss='deviance', max_depth=3,\n",
            "                           max_features=None, max_leaf_nodes=None,\n",
            "                           min_impurity_decrease=0.0, min_impurity_split=None,\n",
            "                           min_samples_leaf=1, min_samples_split=2,\n",
            "                           min_weight_fraction_leaf=0.0, n_estimators=100,\n",
            "                           n_iter_no_change=None, presort='deprecated',\n",
            "                           random_state=None, subsample=1.0, tol=0.0001,\n",
            "                           validation_fraction=0.1, verbose=0,\n",
            "                           warm_start=False)\n",
            "{'criterion': 'mse', 'max_depth': 3, 'n_estimators': 950}\n",
            "-0.9497607655502392\n",
            "RandomForestClassifier(bootstrap=True, ccp_alpha=0.0, class_weight=None,\n",
            "                       criterion='gini', max_depth=None, max_features='auto',\n",
            "                       max_leaf_nodes=None, max_samples=None,\n",
            "                       min_impurity_decrease=0.0, min_impurity_split=None,\n",
            "                       min_samples_leaf=1, min_samples_split=2,\n",
            "                       min_weight_fraction_leaf=0.0, n_estimators=100,\n",
            "                       n_jobs=None, oob_score=False, random_state=None,\n",
            "                       verbose=0, warm_start=False)\n",
            "{'criterion': 'gini', 'max_depth': 5, 'n_estimators': 950}\n",
            "-0.9497797524113313\n",
            "GradientBoostingClassifier(ccp_alpha=0.0, criterion='friedman_mse', init=None,\n",
            "                           learning_rate=0.1, loss='deviance', max_depth=3,\n",
            "                           max_features=None, max_leaf_nodes=None,\n",
            "                           min_impurity_decrease=0.0, min_impurity_split=None,\n",
            "                           min_samples_leaf=1, min_samples_split=2,\n",
            "                           min_weight_fraction_leaf=0.0, n_estimators=100,\n",
            "                           n_iter_no_change=None, presort='deprecated',\n",
            "                           random_state=None, subsample=1.0, tol=0.0001,\n",
            "                           validation_fraction=0.1, verbose=0,\n",
            "                           warm_start=False)\n",
            "{'criterion': 'friedman_mse', 'max_depth': 1, 'n_estimators': 450}\n",
            "-0.9648173463962938\n",
            "GradientBoostingClassifier(ccp_alpha=0.0, criterion='friedman_mse', init=None,\n",
            "                           learning_rate=0.1, loss='deviance', max_depth=3,\n",
            "                           max_features=None, max_leaf_nodes=None,\n",
            "                           min_impurity_decrease=0.0, min_impurity_split=None,\n",
            "                           min_samples_leaf=1, min_samples_split=2,\n",
            "                           min_weight_fraction_leaf=0.0, n_estimators=100,\n",
            "                           n_iter_no_change=None, presort='deprecated',\n",
            "                           random_state=None, subsample=1.0, tol=0.0001,\n",
            "                           validation_fraction=0.1, verbose=0,\n",
            "                           warm_start=False)\n",
            "{'criterion': 'friedman_mse', 'max_depth': 2, 'n_estimators': 1100}\n",
            "-0.9573175362649047\n",
            "GradientBoostingClassifier(ccp_alpha=0.0, criterion='friedman_mse', init=None,\n",
            "                           learning_rate=0.1, loss='deviance', max_depth=3,\n",
            "                           max_features=None, max_leaf_nodes=None,\n",
            "                           min_impurity_decrease=0.0, min_impurity_split=None,\n",
            "                           min_samples_leaf=1, min_samples_split=2,\n",
            "                           min_weight_fraction_leaf=0.0, n_estimators=100,\n",
            "                           n_iter_no_change=None, presort='deprecated',\n",
            "                           random_state=None, subsample=1.0, tol=0.0001,\n",
            "                           validation_fraction=0.1, verbose=0,\n",
            "                           warm_start=False)\n",
            "{'criterion': 'friedman_mse', 'max_depth': 2, 'n_estimators': 850}\n",
            "-0.9573175362649047\n",
            "GradientBoostingClassifier(ccp_alpha=0.0, criterion='friedman_mse', init=None,\n",
            "                           learning_rate=0.1, loss='deviance', max_depth=3,\n",
            "                           max_features=None, max_leaf_nodes=None,\n",
            "                           min_impurity_decrease=0.0, min_impurity_split=None,\n",
            "                           min_samples_leaf=1, min_samples_split=2,\n",
            "                           min_weight_fraction_leaf=0.0, n_estimators=100,\n",
            "                           n_iter_no_change=None, presort='deprecated',\n",
            "                           random_state=None, subsample=1.0, tol=0.0001,\n",
            "                           validation_fraction=0.1, verbose=0,\n",
            "                           warm_start=False)\n",
            "{'criterion': 'friedman_mse', 'max_depth': 3, 'n_estimators': 800}\n",
            "-0.9522860180754918\n",
            "GradientBoostingClassifier(ccp_alpha=0.0, criterion='friedman_mse', init=None,\n",
            "                           learning_rate=0.1, loss='deviance', max_depth=3,\n",
            "                           max_features=None, max_leaf_nodes=None,\n",
            "                           min_impurity_decrease=0.0, min_impurity_split=None,\n",
            "                           min_samples_leaf=1, min_samples_split=2,\n",
            "                           min_weight_fraction_leaf=0.0, n_estimators=100,\n",
            "                           n_iter_no_change=None, presort='deprecated',\n",
            "                           random_state=None, subsample=1.0, tol=0.0001,\n",
            "                           validation_fraction=0.1, verbose=0,\n",
            "                           warm_start=False)\n",
            "{'criterion': 'friedman_mse', 'max_depth': 1, 'n_estimators': 400}\n",
            "-0.9622920938710413\n",
            "LogisticRegression(C=1.0, class_weight=None, dual=False, fit_intercept=True,\n",
            "                   intercept_scaling=1, l1_ratio=None, max_iter=100,\n",
            "                   multi_class='auto', n_jobs=None, penalty='l2',\n",
            "                   random_state=None, solver='lbfgs', tol=0.0001, verbose=0,\n",
            "                   warm_start=False)\n",
            "{'C': 6.058636003485811, 'penalty': 'l1', 'solver': 'saga'}\n",
            "-0.9120148856990963\n",
            "GradientBoostingClassifier(ccp_alpha=0.0, criterion='friedman_mse', init=None,\n",
            "                           learning_rate=0.1, loss='deviance', max_depth=3,\n",
            "                           max_features=None, max_leaf_nodes=None,\n",
            "                           min_impurity_decrease=0.0, min_impurity_split=None,\n",
            "                           min_samples_leaf=1, min_samples_split=2,\n",
            "                           min_weight_fraction_leaf=0.0, n_estimators=100,\n",
            "                           n_iter_no_change=None, presort='deprecated',\n",
            "                           random_state=None, subsample=1.0, tol=0.0001,\n",
            "                           validation_fraction=0.1, verbose=0,\n",
            "                           warm_start=False)\n",
            "{'criterion': 'friedman_mse', 'max_depth': 1, 'n_estimators': 800}\n",
            "-0.9723551302498671\n",
            "GradientBoostingClassifier(ccp_alpha=0.0, criterion='friedman_mse', init=None,\n",
            "                           learning_rate=0.1, loss='deviance', max_depth=3,\n",
            "                           max_features=None, max_leaf_nodes=None,\n",
            "                           min_impurity_decrease=0.0, min_impurity_split=None,\n",
            "                           min_samples_leaf=1, min_samples_split=2,\n",
            "                           min_weight_fraction_leaf=0.0, n_estimators=100,\n",
            "                           n_iter_no_change=None, presort='deprecated',\n",
            "                           random_state=None, subsample=1.0, tol=0.0001,\n",
            "                           validation_fraction=0.1, verbose=0,\n",
            "                           warm_start=False)\n",
            "{'criterion': 'friedman_mse', 'max_depth': 1, 'n_estimators': 700}\n",
            "-0.9698488645857067\n",
            "LogisticRegression(C=1.0, class_weight=None, dual=False, fit_intercept=True,\n",
            "                   intercept_scaling=1, l1_ratio=None, max_iter=100,\n",
            "                   multi_class='auto', n_jobs=None, penalty='l2',\n",
            "                   random_state=None, solver='lbfgs', tol=0.0001, verbose=0,\n",
            "                   warm_start=False)\n",
            "{'C': 3.934740001885701, 'penalty': 'l2', 'solver': 'saga'}\n",
            "-0.9120148856990963\n",
            "GradientBoostingClassifier(ccp_alpha=0.0, criterion='friedman_mse', init=None,\n",
            "                           learning_rate=0.1, loss='deviance', max_depth=3,\n",
            "                           max_features=None, max_leaf_nodes=None,\n",
            "                           min_impurity_decrease=0.0, min_impurity_split=None,\n",
            "                           min_samples_leaf=1, min_samples_split=2,\n",
            "                           min_weight_fraction_leaf=0.0, n_estimators=100,\n",
            "                           n_iter_no_change=None, presort='deprecated',\n",
            "                           random_state=None, subsample=1.0, tol=0.0001,\n",
            "                           validation_fraction=0.1, verbose=0,\n",
            "                           warm_start=False)\n",
            "{'criterion': 'friedman_mse', 'max_depth': 2, 'n_estimators': 950}\n",
            "-0.9573175362649047\n",
            "GradientBoostingClassifier(ccp_alpha=0.0, criterion='friedman_mse', init=None,\n",
            "                           learning_rate=0.1, loss='deviance', max_depth=3,\n",
            "                           max_features=None, max_leaf_nodes=None,\n",
            "                           min_impurity_decrease=0.0, min_impurity_split=None,\n",
            "                           min_samples_leaf=1, min_samples_split=2,\n",
            "                           min_weight_fraction_leaf=0.0, n_estimators=100,\n",
            "                           n_iter_no_change=None, presort='deprecated',\n",
            "                           random_state=None, subsample=1.0, tol=0.0001,\n",
            "                           validation_fraction=0.1, verbose=0,\n",
            "                           warm_start=False)\n",
            "{'criterion': 'mse', 'max_depth': 1, 'n_estimators': 900}\n",
            "-0.9723551302498671\n",
            "GradientBoostingClassifier(ccp_alpha=0.0, criterion='friedman_mse', init=None,\n",
            "                           learning_rate=0.1, loss='deviance', max_depth=3,\n",
            "                           max_features=None, max_leaf_nodes=None,\n",
            "                           min_impurity_decrease=0.0, min_impurity_split=None,\n",
            "                           min_samples_leaf=1, min_samples_split=2,\n",
            "                           min_weight_fraction_leaf=0.0, n_estimators=100,\n",
            "                           n_iter_no_change=None, presort='deprecated',\n",
            "                           random_state=None, subsample=1.0, tol=0.0001,\n",
            "                           validation_fraction=0.1, verbose=0,\n",
            "                           warm_start=False)\n",
            "{'criterion': 'friedman_mse', 'max_depth': 2, 'n_estimators': 1100}\n",
            "-0.9547922837396522\n",
            "GradientBoostingClassifier(ccp_alpha=0.0, criterion='friedman_mse', init=None,\n",
            "                           learning_rate=0.1, loss='deviance', max_depth=3,\n",
            "                           max_features=None, max_leaf_nodes=None,\n",
            "                           min_impurity_decrease=0.0, min_impurity_split=None,\n",
            "                           min_samples_leaf=1, min_samples_split=2,\n",
            "                           min_weight_fraction_leaf=0.0, n_estimators=100,\n",
            "                           n_iter_no_change=None, presort='deprecated',\n",
            "                           random_state=None, subsample=1.0, tol=0.0001,\n",
            "                           validation_fraction=0.1, verbose=0,\n",
            "                           warm_start=False)\n",
            "{'criterion': 'friedman_mse', 'max_depth': 1, 'n_estimators': 800}\n",
            "-0.9723551302498671\n",
            "RandomForestClassifier(bootstrap=True, ccp_alpha=0.0, class_weight=None,\n",
            "                       criterion='gini', max_depth=None, max_features='auto',\n",
            "                       max_leaf_nodes=None, max_samples=None,\n",
            "                       min_impurity_decrease=0.0, min_impurity_split=None,\n",
            "                       min_samples_leaf=1, min_samples_split=2,\n",
            "                       min_weight_fraction_leaf=0.0, n_estimators=100,\n",
            "                       n_jobs=None, oob_score=False, random_state=None,\n",
            "                       verbose=0, warm_start=False)\n",
            "{'criterion': 'entropy', 'max_depth': 3, 'n_estimators': 250}\n",
            "-0.942241968557758\n",
            "GradientBoostingClassifier(ccp_alpha=0.0, criterion='friedman_mse', init=None,\n",
            "                           learning_rate=0.1, loss='deviance', max_depth=3,\n",
            "                           max_features=None, max_leaf_nodes=None,\n",
            "                           min_impurity_decrease=0.0, min_impurity_split=None,\n",
            "                           min_samples_leaf=1, min_samples_split=2,\n",
            "                           min_weight_fraction_leaf=0.0, n_estimators=100,\n",
            "                           n_iter_no_change=None, presort='deprecated',\n",
            "                           random_state=None, subsample=1.0, tol=0.0001,\n",
            "                           validation_fraction=0.1, verbose=0,\n",
            "                           warm_start=False)\n",
            "{'criterion': 'mse', 'max_depth': 1, 'n_estimators': 500}\n",
            "-0.9673236120604543\n",
            "GradientBoostingClassifier(ccp_alpha=0.0, criterion='friedman_mse', init=None,\n",
            "                           learning_rate=0.1, loss='deviance', max_depth=3,\n",
            "                           max_features=None, max_leaf_nodes=None,\n",
            "                           min_impurity_decrease=0.0, min_impurity_split=None,\n",
            "                           min_samples_leaf=1, min_samples_split=2,\n",
            "                           min_weight_fraction_leaf=0.0, n_estimators=100,\n",
            "                           n_iter_no_change=None, presort='deprecated',\n",
            "                           random_state=None, subsample=1.0, tol=0.0001,\n",
            "                           validation_fraction=0.1, verbose=0,\n",
            "                           warm_start=False)\n",
            "{'criterion': 'friedman_mse', 'max_depth': 2, 'n_estimators': 950}\n",
            "-0.9547922837396522\n",
            "GradientBoostingClassifier(ccp_alpha=0.0, criterion='friedman_mse', init=None,\n",
            "                           learning_rate=0.1, loss='deviance', max_depth=3,\n",
            "                           max_features=None, max_leaf_nodes=None,\n",
            "                           min_impurity_decrease=0.0, min_impurity_split=None,\n",
            "                           min_samples_leaf=1, min_samples_split=2,\n",
            "                           min_weight_fraction_leaf=0.0, n_estimators=100,\n",
            "                           n_iter_no_change=None, presort='deprecated',\n",
            "                           random_state=None, subsample=1.0, tol=0.0001,\n",
            "                           validation_fraction=0.1, verbose=0,\n",
            "                           warm_start=False)\n",
            "{'criterion': 'friedman_mse', 'max_depth': 1, 'n_estimators': 750}\n",
            "-0.9723551302498671\n",
            "GradientBoostingClassifier(ccp_alpha=0.0, criterion='friedman_mse', init=None,\n",
            "                           learning_rate=0.1, loss='deviance', max_depth=3,\n",
            "                           max_features=None, max_leaf_nodes=None,\n",
            "                           min_impurity_decrease=0.0, min_impurity_split=None,\n",
            "                           min_samples_leaf=1, min_samples_split=2,\n",
            "                           min_weight_fraction_leaf=0.0, n_estimators=100,\n",
            "                           n_iter_no_change=None, presort='deprecated',\n",
            "                           random_state=None, subsample=1.0, tol=0.0001,\n",
            "                           validation_fraction=0.1, verbose=0,\n",
            "                           warm_start=False)\n",
            "{'criterion': 'mse', 'max_depth': 2, 'n_estimators': 600}\n",
            "-0.9572985494038125\n",
            "GradientBoostingClassifier(ccp_alpha=0.0, criterion='friedman_mse', init=None,\n",
            "                           learning_rate=0.1, loss='deviance', max_depth=3,\n",
            "                           max_features=None, max_leaf_nodes=None,\n",
            "                           min_impurity_decrease=0.0, min_impurity_split=None,\n",
            "                           min_samples_leaf=1, min_samples_split=2,\n",
            "                           min_weight_fraction_leaf=0.0, n_estimators=100,\n",
            "                           n_iter_no_change=None, presort='deprecated',\n",
            "                           random_state=None, subsample=1.0, tol=0.0001,\n",
            "                           validation_fraction=0.1, verbose=0,\n",
            "                           warm_start=False)\n",
            "{'criterion': 'friedman_mse', 'max_depth': 2, 'n_estimators': 850}\n",
            "-0.9547922837396522\n",
            "GradientBoostingClassifier(ccp_alpha=0.0, criterion='friedman_mse', init=None,\n",
            "                           learning_rate=0.1, loss='deviance', max_depth=3,\n",
            "                           max_features=None, max_leaf_nodes=None,\n",
            "                           min_impurity_decrease=0.0, min_impurity_split=None,\n",
            "                           min_samples_leaf=1, min_samples_split=2,\n",
            "                           min_weight_fraction_leaf=0.0, n_estimators=100,\n",
            "                           n_iter_no_change=None, presort='deprecated',\n",
            "                           random_state=None, subsample=1.0, tol=0.0001,\n",
            "                           validation_fraction=0.1, verbose=0,\n",
            "                           warm_start=False)\n",
            "{'criterion': 'friedman_mse', 'max_depth': 1, 'n_estimators': 800}\n",
            "-0.9723551302498671\n",
            "GradientBoostingClassifier(ccp_alpha=0.0, criterion='friedman_mse', init=None,\n",
            "                           learning_rate=0.1, loss='deviance', max_depth=3,\n",
            "                           max_features=None, max_leaf_nodes=None,\n",
            "                           min_impurity_decrease=0.0, min_impurity_split=None,\n",
            "                           min_samples_leaf=1, min_samples_split=2,\n",
            "                           min_weight_fraction_leaf=0.0, n_estimators=100,\n",
            "                           n_iter_no_change=None, presort='deprecated',\n",
            "                           random_state=None, subsample=1.0, tol=0.0001,\n",
            "                           validation_fraction=0.1, verbose=0,\n",
            "                           warm_start=False)\n",
            "{'criterion': 'mse', 'max_depth': 2, 'n_estimators': 750}\n",
            "-0.9522860180754917\n",
            "GradientBoostingClassifier(ccp_alpha=0.0, criterion='friedman_mse', init=None,\n",
            "                           learning_rate=0.1, loss='deviance', max_depth=3,\n",
            "                           max_features=None, max_leaf_nodes=None,\n",
            "                           min_impurity_decrease=0.0, min_impurity_split=None,\n",
            "                           min_samples_leaf=1, min_samples_split=2,\n",
            "                           min_weight_fraction_leaf=0.0, n_estimators=100,\n",
            "                           n_iter_no_change=None, presort='deprecated',\n",
            "                           random_state=None, subsample=1.0, tol=0.0001,\n",
            "                           validation_fraction=0.1, verbose=0,\n",
            "                           warm_start=False)\n",
            "{'criterion': 'friedman_mse', 'max_depth': 1, 'n_estimators': 750}\n",
            "-0.9723551302498671\n",
            "GradientBoostingClassifier(ccp_alpha=0.0, criterion='friedman_mse', init=None,\n",
            "                           learning_rate=0.1, loss='deviance', max_depth=3,\n",
            "                           max_features=None, max_leaf_nodes=None,\n",
            "                           min_impurity_decrease=0.0, min_impurity_split=None,\n",
            "                           min_samples_leaf=1, min_samples_split=2,\n",
            "                           min_weight_fraction_leaf=0.0, n_estimators=100,\n",
            "                           n_iter_no_change=None, presort='deprecated',\n",
            "                           random_state=None, subsample=1.0, tol=0.0001,\n",
            "                           validation_fraction=0.1, verbose=0,\n",
            "                           warm_start=False)\n",
            "{'criterion': 'friedman_mse', 'max_depth': 1, 'n_estimators': 650}\n",
            "-0.9698488645857067\n",
            "100%|██████████| 50/50 [01:28<00:00,  1.77s/it, best loss: -0.9723551302498671]\n",
            "{'classifier': 2, 'criterion_gbm': 0, 'max_depth_gbm': 1.0, 'n_estimators_gbm': 800.0}\n",
            "{'classifier': 2, 'criterion_gbm': 0, 'max_depth_gbm': 1.0, 'n_estimators_gbm': 800.0}\n",
            "-0.9723551302498671\n",
            "{'state': 2, 'tid': 16, 'spec': None, 'result': {'loss': -0.9723551302498671, 'status': 'ok'}, 'misc': {'tid': 16, 'cmd': ('domain_attachment', 'FMinIter_Domain'), 'workdir': None, 'idxs': {'C': [], 'classifier': [16], 'criterion_gbm': [16], 'criterion_rf': [], 'max_depth_gbm': [16], 'max_depth_rf': [], 'n_estimators_gbm': [16], 'n_estimators_rf': [], 'penalty': []}, 'vals': {'C': [], 'classifier': [2], 'criterion_gbm': [0], 'criterion_rf': [], 'max_depth_gbm': [1.0], 'max_depth_rf': [], 'n_estimators_gbm': [800.0], 'n_estimators_rf': [], 'penalty': []}}, 'exp_key': None, 'owner': None, 'version': 0, 'book_time': datetime.datetime(2021, 6, 22, 14, 36, 39, 292000), 'refresh_time': datetime.datetime(2021, 6, 22, 14, 36, 41, 297000)}\n"
          ],
          "name": "stdout"
        },
        {
          "output_type": "execute_result",
          "data": {
            "text/plain": [
              "<matplotlib.axes._subplots.AxesSubplot at 0x7fca29050710>"
            ]
          },
          "metadata": {
            "tags": []
          },
          "execution_count": 16
        },
        {
          "output_type": "display_data",
          "data": {
            "image/png": "[encoded data removed]",
            "text/plain": [
              "<Figure size 432x288 with 1 Axes>"
            ]
          },
          "metadata": {
            "tags": [],
            "needs_background": "light"
          }
        }
      ]
    },
    {
      "cell_type": "markdown",
      "metadata": {
        "id": "LVo70V3kGf4O"
      },
      "source": [
        "## Optuna"
      ]
    },
    {
      "cell_type": "markdown",
      "metadata": {
        "id": "ZMqbF-PCKfse"
      },
      "source": [
        "### Search"
      ]
    },
    {
      "cell_type": "code",
      "metadata": {
        "colab": {
          "base_uri": "https://localhost:8080/"
        },
        "id": "lmj_ePw1JpcF",
        "outputId": "ddc2d562-dc76-427e-cc3a-e034556698af"
      },
      "source": [
        "from sklearn.datasets import load_breast_cancer\n",
        "from sklearn.metrics import accuracy_score, roc_auc_score\n",
        "from sklearn.model_selection import cross_val_score, train_test_split\n",
        "from sklearn.ensemble import RandomForestClassifier\n",
        "\n",
        "import optuna\n",
        "\n",
        "# load dataset\n",
        "\n",
        "breast_cancer_X, breast_cancer_y = load_breast_cancer(return_X_y=True)\n",
        "X = pd.DataFrame(breast_cancer_X)\n",
        "y = pd.Series(breast_cancer_y).map({0:1, 1:0})\n",
        "\n",
        "X.head()\n",
        "\n",
        "# split dataset into a train and test set\n",
        "\n",
        "X_train, X_test, y_train, y_test = train_test_split(\n",
        "    X, y, test_size=0.3, random_state=0)\n",
        "\n",
        "X_train.shape, X_test.shape\n",
        "\n",
        "# the objective function takes the hyperparameter space\n",
        "# as input\n",
        "\n",
        "def objective(trial):\n",
        "\n",
        "    rf_n_estimators = trial.suggest_int(\"rf_n_estimators\", 100, 1000)\n",
        "    rf_criterion = trial.suggest_categorical(\"rf_criterion\", ['gini', 'entropy'])\n",
        "    rf_max_depth = trial.suggest_int(\"rf_max_depth\", 1, 4)\n",
        "    rf_min_samples_split = trial.suggest_float(\"rf_min_samples_split\", 0.01, 1)\n",
        "    \n",
        "    model = RandomForestClassifier(\n",
        "        n_estimators=rf_n_estimators,\n",
        "        criterion=rf_criterion,\n",
        "        max_depth=rf_max_depth,\n",
        "        min_samples_split=rf_min_samples_split,\n",
        "    )\n",
        "\n",
        "    score = cross_val_score(model, X_train, y_train, cv=3)\n",
        "    accuracy = score.mean()\n",
        "    return accuracy\n",
        "\n",
        "study = optuna.create_study(\n",
        "    direction=\"maximize\",\n",
        "    sampler=optuna.samplers.RandomSampler(),\n",
        ")\n",
        "\n",
        "\n",
        "study.optimize(objective, n_trials=5)\n",
        "\n",
        "print(study.best_params)\n",
        "\n",
        "print(study.best_value)\n",
        "\n",
        "print(study.trials_dataframe())\n",
        "\n",
        "\n",
        "# TPE\n",
        "study = optuna.create_study(\n",
        "    direction=\"maximize\",\n",
        "    sampler=optuna.samplers.TPESampler(),\n",
        ")\n",
        "\n",
        "\n",
        "study.optimize(objective, n_trials=5)\n",
        "print(study.best_params)\n",
        "print(study.best_value)\n",
        "\n",
        "# CMA-ES\n",
        "study = optuna.create_study(\n",
        "    direction=\"maximize\",\n",
        "    sampler=optuna.samplers.CmaEsSampler(),\n",
        ")\n",
        "\n",
        "study.optimize(objective, n_trials=5)\n",
        "print(study.best_params)\n",
        "print(study.best_value)"
      ],
      "execution_count": null,
      "outputs": [
        {
          "output_type": "stream",
          "text": [
            "\u001b[32m[I 2021-06-22 14:43:54,794]\u001b[0m A new study created in memory with name: no-name-5e1d03ed-a73d-47fe-8c27-fa428f64d189\u001b[0m\n",
            "\u001b[32m[I 2021-06-22 14:43:57,106]\u001b[0m Trial 0 finished with value: 0.9371724766461608 and parameters: {'rf_n_estimators': 511, 'rf_criterion': 'gini', 'rf_max_depth': 3, 'rf_min_samples_split': 0.37875929829262867}. Best is trial 0 with value: 0.9371724766461608.\u001b[0m\n",
            "\u001b[32m[I 2021-06-22 14:43:59,764]\u001b[0m Trial 1 finished with value: 0.942222981696666 and parameters: {'rf_n_estimators': 513, 'rf_criterion': 'entropy', 'rf_max_depth': 3, 'rf_min_samples_split': 0.21577293450147222}. Best is trial 1 with value: 0.942222981696666.\u001b[0m\n",
            "\u001b[32m[I 2021-06-22 14:44:01,097]\u001b[0m Trial 2 finished with value: 0.6256360598465861 and parameters: {'rf_n_estimators': 335, 'rf_criterion': 'gini', 'rf_max_depth': 1, 'rf_min_samples_split': 0.8705454071830109}. Best is trial 1 with value: 0.942222981696666.\u001b[0m\n",
            "\u001b[32m[I 2021-06-22 14:44:04,387]\u001b[0m Trial 3 finished with value: 0.6256360598465861 and parameters: {'rf_n_estimators': 832, 'rf_criterion': 'gini', 'rf_max_depth': 4, 'rf_min_samples_split': 0.6632601415421269}. Best is trial 1 with value: 0.942222981696666.\u001b[0m\n",
            "\u001b[32m[I 2021-06-22 14:44:05,352]\u001b[0m Trial 4 finished with value: 0.6256360598465861 and parameters: {'rf_n_estimators': 241, 'rf_criterion': 'entropy', 'rf_max_depth': 4, 'rf_min_samples_split': 0.6720756144244817}. Best is trial 1 with value: 0.942222981696666.\u001b[0m\n",
            "\u001b[32m[I 2021-06-22 14:44:05,378]\u001b[0m A new study created in memory with name: no-name-300bade2-dd33-4624-b395-1756ea78ae61\u001b[0m\n"
          ],
          "name": "stderr"
        },
        {
          "output_type": "stream",
          "text": [
            "{'rf_n_estimators': 513, 'rf_criterion': 'entropy', 'rf_max_depth': 3, 'rf_min_samples_split': 0.21577293450147222}\n",
            "0.942222981696666\n",
            "   number     value  ... params_rf_n_estimators     state\n",
            "0       0  0.937172  ...                    511  COMPLETE\n",
            "1       1  0.942223  ...                    513  COMPLETE\n",
            "2       2  0.625636  ...                    335  COMPLETE\n",
            "3       3  0.625636  ...                    832  COMPLETE\n",
            "4       4  0.625636  ...                    241  COMPLETE\n",
            "\n",
            "[5 rows x 10 columns]\n"
          ],
          "name": "stdout"
        },
        {
          "output_type": "stream",
          "text": [
            "\u001b[32m[I 2021-06-22 14:44:08,701]\u001b[0m Trial 0 finished with value: 0.9321409584567478 and parameters: {'rf_n_estimators': 723, 'rf_criterion': 'gini', 'rf_max_depth': 3, 'rf_min_samples_split': 0.31897908665153163}. Best is trial 0 with value: 0.9321409584567478.\u001b[0m\n",
            "\u001b[32m[I 2021-06-22 14:44:12,701]\u001b[0m Trial 1 finished with value: 0.9171223513328776 and parameters: {'rf_n_estimators': 880, 'rf_criterion': 'entropy', 'rf_max_depth': 4, 'rf_min_samples_split': 0.5810674470654155}. Best is trial 0 with value: 0.9321409584567478.\u001b[0m\n",
            "\u001b[32m[I 2021-06-22 14:44:16,892]\u001b[0m Trial 2 finished with value: 0.9346851978430926 and parameters: {'rf_n_estimators': 890, 'rf_criterion': 'entropy', 'rf_max_depth': 3, 'rf_min_samples_split': 0.4173151736944463}. Best is trial 2 with value: 0.9346851978430926.\u001b[0m\n",
            "\u001b[32m[I 2021-06-22 14:44:20,814]\u001b[0m Trial 3 finished with value: 0.6256360598465861 and parameters: {'rf_n_estimators': 979, 'rf_criterion': 'gini', 'rf_max_depth': 2, 'rf_min_samples_split': 0.8217995575181323}. Best is trial 2 with value: 0.9346851978430926.\u001b[0m\n",
            "\u001b[32m[I 2021-06-22 14:44:22,716]\u001b[0m Trial 4 finished with value: 0.9321979190400244 and parameters: {'rf_n_estimators': 362, 'rf_criterion': 'entropy', 'rf_max_depth': 3, 'rf_min_samples_split': 0.13547748214060376}. Best is trial 2 with value: 0.9346851978430926.\u001b[0m\n",
            "\u001b[32m[I 2021-06-22 14:44:22,721]\u001b[0m A new study created in memory with name: no-name-c28bb260-cab2-448b-b976-2597d7e4323c\u001b[0m\n"
          ],
          "name": "stderr"
        },
        {
          "output_type": "stream",
          "text": [
            "{'rf_n_estimators': 890, 'rf_criterion': 'entropy', 'rf_max_depth': 3, 'rf_min_samples_split': 0.4173151736944463}\n",
            "0.9346851978430926\n"
          ],
          "name": "stdout"
        },
        {
          "output_type": "stream",
          "text": [
            "\u001b[32m[I 2021-06-22 14:44:24,524]\u001b[0m Trial 0 finished with value: 0.9196476038581302 and parameters: {'rf_n_estimators': 430, 'rf_criterion': 'gini', 'rf_max_depth': 2, 'rf_min_samples_split': 0.6151449836207126}. Best is trial 0 with value: 0.9196476038581302.\u001b[0m\n",
            "\u001b[33m[W 2021-06-22 14:44:24,547]\u001b[0m The parameter 'rf_criterion' in trial#1 is sampled independently by using `RandomSampler` instead of `CmaEsSampler` (optimization performance may be degraded). `CmaEsSampler` does not support dynamic search space or `CategoricalDistribution`. You can suppress this warning by setting `warn_independent_sampling` to `False` in the constructor of `CmaEsSampler`, if this independent sampling is intended behavior.\u001b[0m\n",
            "\u001b[32m[I 2021-06-22 14:44:26,823]\u001b[0m Trial 1 finished with value: 0.6256360598465861 and parameters: {'rf_n_estimators': 550, 'rf_criterion': 'gini', 'rf_max_depth': 3, 'rf_min_samples_split': 0.7669794051776813}. Best is trial 0 with value: 0.9196476038581302.\u001b[0m\n",
            "\u001b[33m[W 2021-06-22 14:44:26,830]\u001b[0m The parameter 'rf_criterion' in trial#2 is sampled independently by using `RandomSampler` instead of `CmaEsSampler` (optimization performance may be degraded). `CmaEsSampler` does not support dynamic search space or `CategoricalDistribution`. You can suppress this warning by setting `warn_independent_sampling` to `False` in the constructor of `CmaEsSampler`, if this independent sampling is intended behavior.\u001b[0m\n",
            "\u001b[32m[I 2021-06-22 14:44:29,359]\u001b[0m Trial 2 finished with value: 0.9221538695222905 and parameters: {'rf_n_estimators': 550, 'rf_criterion': 'entropy', 'rf_max_depth': 2, 'rf_min_samples_split': 0.4476243338544131}. Best is trial 2 with value: 0.9221538695222905.\u001b[0m\n",
            "\u001b[33m[W 2021-06-22 14:44:29,366]\u001b[0m The parameter 'rf_criterion' in trial#3 is sampled independently by using `RandomSampler` instead of `CmaEsSampler` (optimization performance may be degraded). `CmaEsSampler` does not support dynamic search space or `CategoricalDistribution`. You can suppress this warning by setting `warn_independent_sampling` to `False` in the constructor of `CmaEsSampler`, if this independent sampling is intended behavior.\u001b[0m\n",
            "\u001b[32m[I 2021-06-22 14:44:31,732]\u001b[0m Trial 3 finished with value: 0.9171223513328776 and parameters: {'rf_n_estimators': 550, 'rf_criterion': 'gini', 'rf_max_depth': 2, 'rf_min_samples_split': 0.4722656977124427}. Best is trial 2 with value: 0.9221538695222905.\u001b[0m\n",
            "\u001b[33m[W 2021-06-22 14:44:31,735]\u001b[0m The parameter 'rf_criterion' in trial#4 is sampled independently by using `RandomSampler` instead of `CmaEsSampler` (optimization performance may be degraded). `CmaEsSampler` does not support dynamic search space or `CategoricalDistribution`. You can suppress this warning by setting `warn_independent_sampling` to `False` in the constructor of `CmaEsSampler`, if this independent sampling is intended behavior.\u001b[0m\n",
            "\u001b[32m[I 2021-06-22 14:44:34,245]\u001b[0m Trial 4 finished with value: 0.9171223513328776 and parameters: {'rf_n_estimators': 550, 'rf_criterion': 'entropy', 'rf_max_depth': 2, 'rf_min_samples_split': 0.5621453784657002}. Best is trial 2 with value: 0.9221538695222905.\u001b[0m\n"
          ],
          "name": "stderr"
        },
        {
          "output_type": "stream",
          "text": [
            "{'rf_n_estimators': 550, 'rf_criterion': 'entropy', 'rf_max_depth': 2, 'rf_min_samples_split': 0.4476243338544131}\n",
            "0.9221538695222905\n"
          ],
          "name": "stdout"
        }
      ]
    },
    {
      "cell_type": "markdown",
      "metadata": {
        "id": "VwAnxifEKpD6"
      },
      "source": [
        "### Conditional Spaces Multiple Model"
      ]
    },
    {
      "cell_type": "code",
      "metadata": {
        "colab": {
          "base_uri": "https://localhost:8080/"
        },
        "id": "JRdDFNWCLZ7H",
        "outputId": "bd5efa40-60af-4f5a-bd30-fd7b369b260b"
      },
      "source": [
        "from sklearn.datasets import load_breast_cancer\n",
        "from sklearn.metrics import accuracy_score, roc_auc_score\n",
        "from sklearn.model_selection import cross_val_score, train_test_split\n",
        "from sklearn.ensemble import RandomForestClassifier, GradientBoostingClassifier\n",
        "from sklearn.linear_model import LogisticRegression\n",
        "\n",
        "import optuna\n",
        "\n",
        "# load dataset\n",
        "\n",
        "breast_cancer_X, breast_cancer_y = load_breast_cancer(return_X_y=True)\n",
        "X = pd.DataFrame(breast_cancer_X)\n",
        "y = pd.Series(breast_cancer_y).map({0:1, 1:0})\n",
        "\n",
        "X.head()\n",
        "\n",
        "# split dataset into a train and test set\n",
        "\n",
        "X_train, X_test, y_train, y_test = train_test_split(\n",
        "    X, y, test_size=0.3, random_state=0)\n",
        "\n",
        "X_train.shape, X_test.shape\n",
        "\n",
        "# the objective function takes the hyperparameter space\n",
        "# as input\n",
        "\n",
        "def objective(trial):\n",
        "    \n",
        "    classifier_name = trial.suggest_categorical(\"classifier\", [\"logit\", \"RF\", 'GBM'])\n",
        "    \n",
        "    if classifier_name == \"logit\":\n",
        "        \n",
        "        logit_penalty = trial.suggest_categorical('logit_penalty', ['l1','l2'])\n",
        "        logit_c = trial.suggest_float('logit_c', 0.001, 10)\n",
        "        logit_solver = 'saga'\n",
        "        \n",
        "        model = LogisticRegression(\n",
        "            penalty=logit_penalty,\n",
        "            C=logit_c,\n",
        "            solver=logit_solver,\n",
        "        )\n",
        "        \n",
        "    elif classifier_name ==\"RF\":\n",
        "        \n",
        "        rf_n_estimators = trial.suggest_int(\"rf_n_estimators\", 100, 1000)\n",
        "        rf_criterion = trial.suggest_categorical(\"rf_criterion\", ['gini', 'entropy'])\n",
        "        rf_max_depth = trial.suggest_int(\"rf_max_depth\", 1, 4)\n",
        "        rf_min_samples_split = trial.suggest_float(\"rf_min_samples_split\", 0.01, 1)\n",
        "\n",
        "        model = RandomForestClassifier(\n",
        "            n_estimators=rf_n_estimators,\n",
        "            criterion=rf_criterion,\n",
        "            max_depth=rf_max_depth,\n",
        "            min_samples_split=rf_min_samples_split,\n",
        "        )\n",
        "        \n",
        "    else:\n",
        "        \n",
        "        gbm_n_estimators = trial.suggest_int(\"gbm_n_estimators\", 100, 1000)\n",
        "        gbm_criterion = trial.suggest_categorical(\"gbm_criterion\", ['mse', 'friedman_mse'])\n",
        "        gbm_max_depth = trial.suggest_int(\"gbm_max_depth\", 1, 4)\n",
        "        gbm_min_samples_split = trial.suggest_float(\"gbm_min_samples_split\", 0.01, 1)\n",
        "\n",
        "        model = GradientBoostingClassifier(\n",
        "            n_estimators=gbm_n_estimators,\n",
        "            criterion=gbm_criterion,\n",
        "            max_depth=gbm_max_depth,\n",
        "            min_samples_split=gbm_min_samples_split,\n",
        "        )\n",
        "\n",
        "    \n",
        "    score = cross_val_score(model, X_train, y_train, cv=3)\n",
        "    accuracy = score.mean()\n",
        "    \n",
        "    return accuracy\n",
        "\n",
        "study = optuna.create_study(\n",
        "    direction=\"maximize\",\n",
        "    # we do not need the below line, \n",
        "    # tpe is the default search\n",
        "    sampler=optuna.samplers.TPESampler(),\n",
        ")\n",
        "\n",
        "\n",
        "study.optimize(objective, n_trials=20)\n",
        "print(study.best_params)\n",
        "\n",
        "print(study.best_value)\n",
        "\n",
        "print(study.trials_dataframe())"
      ],
      "execution_count": null,
      "outputs": [
        {
          "output_type": "stream",
          "text": [
            "\u001b[32m[I 2021-06-22 14:44:55,396]\u001b[0m A new study created in memory with name: no-name-3b9e6c65-8e5d-4486-bf35-74a7e722aca1\u001b[0m\n",
            "\u001b[32m[I 2021-06-22 14:44:56,857]\u001b[0m Trial 0 finished with value: 0.9171223513328776 and parameters: {'classifier': 'RF', 'rf_n_estimators': 319, 'rf_criterion': 'entropy', 'rf_max_depth': 1, 'rf_min_samples_split': 0.05670341175719665}. Best is trial 0 with value: 0.9171223513328776.\u001b[0m\n",
            "/usr/local/lib/python3.7/dist-packages/sklearn/linear_model/_sag.py:330: ConvergenceWarning:\n",
            "\n",
            "The max_iter was reached which means the coef_ did not converge\n",
            "\n",
            "/usr/local/lib/python3.7/dist-packages/sklearn/linear_model/_sag.py:330: ConvergenceWarning:\n",
            "\n",
            "The max_iter was reached which means the coef_ did not converge\n",
            "\n",
            "/usr/local/lib/python3.7/dist-packages/sklearn/linear_model/_sag.py:330: ConvergenceWarning:\n",
            "\n",
            "The max_iter was reached which means the coef_ did not converge\n",
            "\n",
            "\u001b[32m[I 2021-06-22 14:44:56,925]\u001b[0m Trial 1 finished with value: 0.9120148856990963 and parameters: {'classifier': 'logit', 'logit_penalty': 'l1', 'logit_c': 1.4614467980967407}. Best is trial 0 with value: 0.9171223513328776.\u001b[0m\n",
            "\u001b[32m[I 2021-06-22 14:44:59,250]\u001b[0m Trial 2 finished with value: 0.9146160856687172 and parameters: {'classifier': 'RF', 'rf_n_estimators': 543, 'rf_criterion': 'gini', 'rf_max_depth': 2, 'rf_min_samples_split': 0.5742785313848686}. Best is trial 0 with value: 0.9171223513328776.\u001b[0m\n",
            "\u001b[32m[I 2021-06-22 14:45:01,710]\u001b[0m Trial 3 finished with value: 0.9622920938710413 and parameters: {'classifier': 'GBM', 'gbm_n_estimators': 672, 'gbm_criterion': 'mse', 'gbm_max_depth': 3, 'gbm_min_samples_split': 0.7725173605074505}. Best is trial 3 with value: 0.9622920938710413.\u001b[0m\n",
            "\u001b[32m[I 2021-06-22 14:45:02,216]\u001b[0m Trial 4 finished with value: 0.9673236120604543 and parameters: {'classifier': 'GBM', 'gbm_n_estimators': 153, 'gbm_criterion': 'friedman_mse', 'gbm_max_depth': 1, 'gbm_min_samples_split': 0.3362611082818568}. Best is trial 4 with value: 0.9673236120604543.\u001b[0m\n",
            "\u001b[32m[I 2021-06-22 14:45:04,294]\u001b[0m Trial 5 finished with value: 0.9673236120604543 and parameters: {'classifier': 'GBM', 'gbm_n_estimators': 647, 'gbm_criterion': 'friedman_mse', 'gbm_max_depth': 1, 'gbm_min_samples_split': 0.6523215361112642}. Best is trial 4 with value: 0.9673236120604543.\u001b[0m\n",
            "/usr/local/lib/python3.7/dist-packages/sklearn/linear_model/_sag.py:330: ConvergenceWarning:\n",
            "\n",
            "The max_iter was reached which means the coef_ did not converge\n",
            "\n",
            "/usr/local/lib/python3.7/dist-packages/sklearn/linear_model/_sag.py:330: ConvergenceWarning:\n",
            "\n",
            "The max_iter was reached which means the coef_ did not converge\n",
            "\n",
            "/usr/local/lib/python3.7/dist-packages/sklearn/linear_model/_sag.py:330: ConvergenceWarning:\n",
            "\n",
            "The max_iter was reached which means the coef_ did not converge\n",
            "\n",
            "\u001b[32m[I 2021-06-22 14:45:04,346]\u001b[0m Trial 6 finished with value: 0.9120148856990963 and parameters: {'classifier': 'logit', 'logit_penalty': 'l2', 'logit_c': 9.07453523786389}. Best is trial 4 with value: 0.9673236120604543.\u001b[0m\n",
            "\u001b[32m[I 2021-06-22 14:45:07,777]\u001b[0m Trial 7 finished with value: 0.9396977291714134 and parameters: {'classifier': 'RF', 'rf_n_estimators': 781, 'rf_criterion': 'gini', 'rf_max_depth': 2, 'rf_min_samples_split': 0.2992316771677227}. Best is trial 4 with value: 0.9673236120604543.\u001b[0m\n",
            "\u001b[32m[I 2021-06-22 14:45:10,121]\u001b[0m Trial 8 finished with value: 0.9622920938710413 and parameters: {'classifier': 'GBM', 'gbm_n_estimators': 613, 'gbm_criterion': 'mse', 'gbm_max_depth': 4, 'gbm_min_samples_split': 0.7793049536146344}. Best is trial 4 with value: 0.9673236120604543.\u001b[0m\n",
            "\u001b[32m[I 2021-06-22 14:45:11,542]\u001b[0m Trial 9 finished with value: 0.9698488645857067 and parameters: {'classifier': 'GBM', 'gbm_n_estimators': 316, 'gbm_criterion': 'friedman_mse', 'gbm_max_depth': 2, 'gbm_min_samples_split': 0.743245138601854}. Best is trial 9 with value: 0.9698488645857067.\u001b[0m\n",
            "\u001b[32m[I 2021-06-22 14:45:12,541]\u001b[0m Trial 10 finished with value: 0.9547732968785599 and parameters: {'classifier': 'GBM', 'gbm_n_estimators': 185, 'gbm_criterion': 'friedman_mse', 'gbm_max_depth': 2, 'gbm_min_samples_split': 0.018567221282197288}. Best is trial 9 with value: 0.9698488645857067.\u001b[0m\n",
            "\u001b[32m[I 2021-06-22 14:45:13,106]\u001b[0m Trial 11 finished with value: 0.9648173463962938 and parameters: {'classifier': 'GBM', 'gbm_n_estimators': 173, 'gbm_criterion': 'friedman_mse', 'gbm_max_depth': 1, 'gbm_min_samples_split': 0.2656282485513468}. Best is trial 9 with value: 0.9698488645857067.\u001b[0m\n",
            "\u001b[32m[I 2021-06-22 14:45:14,745]\u001b[0m Trial 12 finished with value: 0.9623300675932255 and parameters: {'classifier': 'GBM', 'gbm_n_estimators': 345, 'gbm_criterion': 'friedman_mse', 'gbm_max_depth': 2, 'gbm_min_samples_split': 0.38326694515345483}. Best is trial 9 with value: 0.9698488645857067.\u001b[0m\n",
            "\u001b[32m[I 2021-06-22 14:45:15,945]\u001b[0m Trial 13 finished with value: 0.9647983595352017 and parameters: {'classifier': 'GBM', 'gbm_n_estimators': 374, 'gbm_criterion': 'friedman_mse', 'gbm_max_depth': 1, 'gbm_min_samples_split': 0.9776671127230294}. Best is trial 9 with value: 0.9698488645857067.\u001b[0m\n",
            "\u001b[32m[I 2021-06-22 14:45:18,159]\u001b[0m Trial 14 finished with value: 0.9648363332573858 and parameters: {'classifier': 'GBM', 'gbm_n_estimators': 967, 'gbm_criterion': 'friedman_mse', 'gbm_max_depth': 2, 'gbm_min_samples_split': 0.14941811659081905}. Best is trial 9 with value: 0.9698488645857067.\u001b[0m\n",
            "/usr/local/lib/python3.7/dist-packages/sklearn/linear_model/_sag.py:330: ConvergenceWarning:\n",
            "\n",
            "The max_iter was reached which means the coef_ did not converge\n",
            "\n",
            "/usr/local/lib/python3.7/dist-packages/sklearn/linear_model/_sag.py:330: ConvergenceWarning:\n",
            "\n",
            "The max_iter was reached which means the coef_ did not converge\n",
            "\n",
            "/usr/local/lib/python3.7/dist-packages/sklearn/linear_model/_sag.py:330: ConvergenceWarning:\n",
            "\n",
            "The max_iter was reached which means the coef_ did not converge\n",
            "\n",
            "\u001b[32m[I 2021-06-22 14:45:18,218]\u001b[0m Trial 15 finished with value: 0.9120148856990963 and parameters: {'classifier': 'logit', 'logit_penalty': 'l2', 'logit_c': 9.34925447502638}. Best is trial 9 with value: 0.9698488645857067.\u001b[0m\n",
            "\u001b[32m[I 2021-06-22 14:45:18,864]\u001b[0m Trial 16 finished with value: 0.9497607655502392 and parameters: {'classifier': 'GBM', 'gbm_n_estimators': 109, 'gbm_criterion': 'friedman_mse', 'gbm_max_depth': 3, 'gbm_min_samples_split': 0.5168268873617166}. Best is trial 9 with value: 0.9698488645857067.\u001b[0m\n",
            "\u001b[32m[I 2021-06-22 14:45:20,092]\u001b[0m Trial 17 finished with value: 0.9647983595352017 and parameters: {'classifier': 'GBM', 'gbm_n_estimators': 375, 'gbm_criterion': 'friedman_mse', 'gbm_max_depth': 1, 'gbm_min_samples_split': 0.5102787820796456}. Best is trial 9 with value: 0.9698488645857067.\u001b[0m\n",
            "\u001b[32m[I 2021-06-22 14:45:21,072]\u001b[0m Trial 18 finished with value: 0.9647983595352017 and parameters: {'classifier': 'GBM', 'gbm_n_estimators': 273, 'gbm_criterion': 'friedman_mse', 'gbm_max_depth': 2, 'gbm_min_samples_split': 0.9812315150084957}. Best is trial 9 with value: 0.9698488645857067.\u001b[0m\n",
            "\u001b[32m[I 2021-06-22 14:45:22,675]\u001b[0m Trial 19 finished with value: 0.9497797524113313 and parameters: {'classifier': 'GBM', 'gbm_n_estimators': 467, 'gbm_criterion': 'mse', 'gbm_max_depth': 3, 'gbm_min_samples_split': 0.37372133274604036}. Best is trial 9 with value: 0.9698488645857067.\u001b[0m\n"
          ],
          "name": "stderr"
        },
        {
          "output_type": "stream",
          "text": [
            "{'classifier': 'GBM', 'gbm_n_estimators': 316, 'gbm_criterion': 'friedman_mse', 'gbm_max_depth': 2, 'gbm_min_samples_split': 0.743245138601854}\n",
            "0.9698488645857067\n",
            "    number     value  ... params_rf_n_estimators     state\n",
            "0        0  0.917122  ...                  319.0  COMPLETE\n",
            "1        1  0.912015  ...                    NaN  COMPLETE\n",
            "2        2  0.914616  ...                  543.0  COMPLETE\n",
            "3        3  0.962292  ...                    NaN  COMPLETE\n",
            "4        4  0.967324  ...                    NaN  COMPLETE\n",
            "5        5  0.967324  ...                    NaN  COMPLETE\n",
            "6        6  0.912015  ...                    NaN  COMPLETE\n",
            "7        7  0.939698  ...                  781.0  COMPLETE\n",
            "8        8  0.962292  ...                    NaN  COMPLETE\n",
            "9        9  0.969849  ...                    NaN  COMPLETE\n",
            "10      10  0.954773  ...                    NaN  COMPLETE\n",
            "11      11  0.964817  ...                    NaN  COMPLETE\n",
            "12      12  0.962330  ...                    NaN  COMPLETE\n",
            "13      13  0.964798  ...                    NaN  COMPLETE\n",
            "14      14  0.964836  ...                    NaN  COMPLETE\n",
            "15      15  0.912015  ...                    NaN  COMPLETE\n",
            "16      16  0.949761  ...                    NaN  COMPLETE\n",
            "17      17  0.964798  ...                    NaN  COMPLETE\n",
            "18      18  0.964798  ...                    NaN  COMPLETE\n",
            "19      19  0.949780  ...                    NaN  COMPLETE\n",
            "\n",
            "[20 rows x 17 columns]\n"
          ],
          "name": "stdout"
        }
      ]
    },
    {
      "cell_type": "code",
      "metadata": {
        "colab": {
          "base_uri": "https://localhost:8080/",
          "height": 396
        },
        "id": "OAfOqEQyLtTv",
        "outputId": "d5c6227b-5c2d-4cff-fd44-6f188fa69e2b"
      },
      "source": [
        "results = study.trials_dataframe()\n",
        "\n",
        "results['params_classifier'].value_counts()\n",
        "\n",
        "print(results.groupby(['params_classifier'])['value'].agg(['mean', 'std']))\n",
        "\n",
        "results['value'].sort_values().reset_index(drop=True).plot()\n",
        "plt.title('Convergence plot')\n",
        "plt.xlabel('Iteration')\n",
        "plt.ylabel('Accuracy')"
      ],
      "execution_count": null,
      "outputs": [
        {
          "output_type": "stream",
          "text": [
            "                       mean       std\n",
            "params_classifier                    \n",
            "GBM                0.962127  0.006258\n",
            "RF                 0.923812  0.013814\n",
            "logit              0.912015  0.000000\n"
          ],
          "name": "stdout"
        },
        {
          "output_type": "execute_result",
          "data": {
            "text/plain": [
              "Text(0, 0.5, 'Accuracy')"
            ]
          },
          "metadata": {
            "tags": []
          },
          "execution_count": 24
        },
        {
          "output_type": "display_data",
          "data": {
            "image/png": "[encoded data removed]",
            "text/plain": [
              "<Figure size 432x288 with 1 Axes>"
            ]
          },
          "metadata": {
            "tags": [],
            "needs_background": "light"
          }
        }
      ]
    }
  ]
}